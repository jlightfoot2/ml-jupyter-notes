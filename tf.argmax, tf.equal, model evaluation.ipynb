{
 "cells": [
  {
   "cell_type": "code",
   "execution_count": 1,
   "metadata": {},
   "outputs": [
    {
     "name": "stderr",
     "output_type": "stream",
     "text": [
      "/usr/local/Cellar/python3/3.6.4_2/Frameworks/Python.framework/Versions/3.6/lib/python3.6/importlib/_bootstrap.py:219: RuntimeWarning: compiletime version 3.5 of module 'tensorflow.python.framework.fast_tensor_util' does not match runtime version 3.6\n",
      "  return f(*args, **kwds)\n"
     ]
    }
   ],
   "source": [
    "import tensorflow as tf\n",
    "import numpy as np"
   ]
  },
  {
   "cell_type": "code",
   "execution_count": 2,
   "metadata": {},
   "outputs": [
    {
     "name": "stdout",
     "output_type": "stream",
     "text": [
      "[[ 1.  3.  7.  0.  0.]\n",
      " [ 1.  3.  7.  0.  9.]\n",
      " [30.  3.  7.  0.  9.]]\n",
      "(3, 5)\n",
      "\n",
      "[[[   5.    1.]\n",
      "  [   3.    6.]\n",
      "  [   5.  999.]\n",
      "  [   1.    3.]\n",
      "  [   4. 1000.]]]\n",
      "(1, 5, 2)\n",
      "finding largest value index along axis/dimension 1\n",
      "Tensor(\"Placeholder:0\", shape=(3, 5), dtype=float32)\n",
      "Tensor(\"Placeholder_1:0\", shape=(1, 5, 2), dtype=float32)\n"
     ]
    }
   ],
   "source": [
    "\n",
    "# don't understand how this 3d array resolves along axis == 1with argmax \n",
    "am_in_3d = np.array([[[5,1],[3,6],[5,999],[1,3],[4,1000]]]).astype(np.float32) \n",
    "# numpy version of argmax = http://docs.scipy.org/doc/numpy-1.10.1/reference/generated/numpy.argmax.html\n",
    "#am_in = np.array([[1,3,7,0,0]]).astype(np.float32)\n",
    "\n",
    "# (below) with respect to am_in, if target_axis == 1 then argmax returns the highest value for each axis=1\n",
    "# in the below case there are 3 arrays for axis ==1 so there will be 3 high values [7,9,30] which have indexes [2,4,0]\n",
    "am_in = np.array([[1,3,7,0,0],[1,3,7,0,9],[30,3,7,0,9]]).astype(np.float32)\n",
    "\n",
    "\n",
    "\n",
    "#am_in = np.array([1,3,7,0,9]).astype(np.float32)\n",
    "'''\n",
    "am_in = np.array(\n",
    "    [\n",
    "        [[17,0],[10,6],[2,2],[50,41],[1,90]],\n",
    "        [[0,0],[5,8],[47,2],[8,6],[1,2]]\n",
    "    ]\n",
    ").astype(np.float32)\n",
    "'''\n",
    "target_axis = 1\n",
    "#sum_am_in = am_in.sum(axis=target_axis)\n",
    "print(am_in)\n",
    "\n",
    "print(am_in.shape)\n",
    "print()\n",
    "print(am_in_3d)\n",
    "\n",
    "print(am_in_3d.shape)\n",
    "print(\"finding largest value index along axis/dimension \" + str(target_axis))\n",
    "\n",
    "ph_am = tf.placeholder(tf.float32, am_in.shape)\n",
    "ph_am_3d = tf.placeholder(tf.float32, am_in_3d.shape)\n",
    "print(ph_am);\n",
    "print(ph_am_3d);\n",
    "\n",
    "am = tf.argmax(ph_am,target_axis) #https://www.tensorflow.org/versions/r0.8/api_docs/python/math_ops.html#argmax\n",
    "am_3d = tf.argmax(ph_am_3d,target_axis)\n",
    "#dimension == axis ?\n",
    "# argmax Returns the INDEX (not the value) with the largest value across dimensions of a tensor."
   ]
  },
  {
   "cell_type": "code",
   "execution_count": 3,
   "metadata": {},
   "outputs": [
    {
     "name": "stdout",
     "output_type": "stream",
     "text": [
      "[2 4 0]\n",
      "\n",
      "[[0 4]]\n"
     ]
    }
   ],
   "source": [
    "with tf.Session() as sess: #automatically closes session up leaving block\n",
    "  print (sess.run(am,feed_dict={ph_am: am_in}))\n",
    "  print()\n",
    "  print (sess.run(am_3d,feed_dict={ph_am_3d: am_in_3d}))\n",
    "\n",
    "# explicitly close session with sess.close()"
   ]
  },
  {
   "cell_type": "code",
   "execution_count": null,
   "metadata": {
    "collapsed": true
   },
   "outputs": [],
   "source": []
  }
 ],
 "metadata": {
  "kernelspec": {
   "display_name": "Python 3",
   "language": "python",
   "name": "python3"
  },
  "language_info": {
   "codemirror_mode": {
    "name": "ipython",
    "version": 3
   },
   "file_extension": ".py",
   "mimetype": "text/x-python",
   "name": "python",
   "nbconvert_exporter": "python",
   "pygments_lexer": "ipython3",
   "version": "3.6.4"
  }
 },
 "nbformat": 4,
 "nbformat_minor": 1
}
