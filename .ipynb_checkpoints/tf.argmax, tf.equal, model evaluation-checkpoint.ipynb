{
 "cells": [
  {
   "cell_type": "code",
   "execution_count": 34,
   "metadata": {
    "collapsed": true
   },
   "outputs": [],
   "source": [
    "import tensorflow as tf\n",
    "import numpy as np"
   ]
  },
  {
   "cell_type": "code",
   "execution_count": 130,
   "metadata": {
    "collapsed": false
   },
   "outputs": [
    {
     "name": "stdout",
     "output_type": "stream",
     "text": [
      "[[  1.   3.   7.   0.   0.]\n",
      " [  1.   3.   7.   0.   9.]\n",
      " [ 30.   3.   7.   0.   9.]]\n",
      "(3, 5)\n",
      "[ 11.  20.  49.]\n",
      "(3,)\n",
      "Tensor(\"Placeholder_64:0\", shape=(3, 5), dtype=float32)\n",
      "Tensor(\"Placeholder_65:0\", shape=(?, 10), dtype=float32)\n"
     ]
    }
   ],
   "source": [
    "am_in = np.array([[[0,66],[5,6],[2,2],[3,4],[1,2]]]).astype(np.float32)\n",
    "#am_in = np.array([[1,3,7,0,0]]).astype(np.float32)\n",
    "#am_in = np.array([[1,3,7,0,0],[1,3,7,0,9],[30,3,7,0,9]]).astype(np.float32)\n",
    "#(above)if target_axis == 1 then argmax returns the highest value for each axis=1\n",
    "# for above there are 3 arrays for axis ==1 so there will be 3 high values [7,9,30] which have indexes [2,4,0]\n",
    "\n",
    "#am_in = np.array([1,3,7,0,9]).astype(np.float32)\n",
    "'''\n",
    "am_in = np.array(\n",
    "    [\n",
    "        [[17,0],[10,6],[2,2],[50,41],[1,90]],\n",
    "        [[0,0],[5,8],[47,2],[8,6],[1,2]]\n",
    "    ]\n",
    ").astype(np.float32)\n",
    "'''\n",
    "target_axis = 1\n",
    "sum_am_in = am_in.sum(axis=target_axis)\n",
    "print(am_in)\n",
    "\n",
    "print(am_in.shape)\n",
    "print(sum_am_in)\n",
    "print(sum_am_in.shape)\n",
    "ph_am = tf.placeholder(tf.float32, am_in.shape)\n",
    "print(ph_am);\n",
    "ph_am2 = tf.placeholder(tf.float32, [None,10])\n",
    "print(ph_am2)\n",
    "am = tf.argmax(ph_am,target_axis) #https://www.tensorflow.org/versions/r0.8/api_docs/python/math_ops.html#argmax\n",
    "#dimension == axis ?\n",
    "#Returns the INDEX (not the value) with the largest value across dimensions of a tensor."
   ]
  },
  {
   "cell_type": "code",
   "execution_count": 131,
   "metadata": {
    "collapsed": false
   },
   "outputs": [
    {
     "name": "stdout",
     "output_type": "stream",
     "text": [
      "[2 4 0]\n"
     ]
    }
   ],
   "source": [
    "with tf.Session() as sess: #automatically closes session up leaving block\n",
    "  print (sess.run(am,feed_dict={ph_am: am_in}))\n",
    "\n",
    "# explicitly close session with sess.close()"
   ]
  },
  {
   "cell_type": "code",
   "execution_count": null,
   "metadata": {
    "collapsed": true
   },
   "outputs": [],
   "source": []
  }
 ],
 "metadata": {
  "kernelspec": {
   "display_name": "Python 3",
   "language": "python",
   "name": "python3"
  },
  "language_info": {
   "codemirror_mode": {
    "name": "ipython",
    "version": 3
   },
   "file_extension": ".py",
   "mimetype": "text/x-python",
   "name": "python",
   "nbconvert_exporter": "python",
   "pygments_lexer": "ipython3",
   "version": "3.5.1"
  }
 },
 "nbformat": 4,
 "nbformat_minor": 0
}
