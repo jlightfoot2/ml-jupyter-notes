{
 "cells": [
  {
   "cell_type": "code",
   "execution_count": 1,
   "metadata": {
    "collapsed": true
   },
   "outputs": [],
   "source": [
    "import numpy as np\n",
    "import tensorflow as tf\n"
   ]
  },
  {
   "cell_type": "code",
   "execution_count": 2,
   "metadata": {},
   "outputs": [
    {
     "name": "stdout",
     "output_type": "stream",
     "text": [
      "[[ 1.  1.  1.  1.  1.  1.  1.  1.  1.  1.  1.  1.  1.  1.  1.  1.  1.  1.\n",
      "   1.  1.  1.  1.  1.  1.  1.]\n",
      " [ 1.  1.  1.  1.  1.  1.  1.  1.  1.  1.  1.  1.  1.  1.  1.  1.  1.  1.\n",
      "   1.  1.  1.  1.  1.  1.  1.]\n",
      " [ 1.  1.  1.  1.  1.  1.  1.  1.  1.  1.  1.  1.  1.  1.  1.  1.  1.  1.\n",
      "   1.  1.  1.  1.  1.  1.  1.]]\n",
      "(3, 25)\n",
      "\n",
      "[[ 1.  1.  1.  1.  1.]\n",
      " [ 1.  1.  1.  1.  1.]\n",
      " [ 1.  1.  1.  1.  1.]\n",
      " [ 1.  1.  1.  1.  1.]\n",
      " [ 1.  1.  1.  1.  1.]\n",
      " [ 1.  1.  1.  1.  1.]\n",
      " [ 1.  1.  1.  1.  1.]\n",
      " [ 1.  1.  1.  1.  1.]\n",
      " [ 1.  1.  1.  1.  1.]\n",
      " [ 1.  1.  1.  1.  1.]\n",
      " [ 1.  1.  1.  1.  1.]\n",
      " [ 1.  1.  1.  1.  1.]\n",
      " [ 1.  1.  1.  1.  1.]\n",
      " [ 1.  1.  1.  1.  1.]\n",
      " [ 1.  1.  1.  1.  1.]\n",
      " [ 1.  1.  1.  1.  1.]\n",
      " [ 1.  1.  1.  1.  1.]\n",
      " [ 1.  1.  1.  1.  1.]\n",
      " [ 1.  1.  1.  1.  1.]\n",
      " [ 1.  1.  1.  1.  1.]\n",
      " [ 1.  1.  1.  1.  1.]\n",
      " [ 1.  1.  1.  1.  1.]\n",
      " [ 1.  1.  1.  1.  1.]\n",
      " [ 1.  1.  1.  1.  1.]\n",
      " [ 1.  1.  1.  1.  1.]]\n",
      "(25, 5)\n",
      "\n",
      "[ 1.  1.  1.  1.  1.]\n",
      "(5,)\n",
      "\n",
      "[[ 25.  25.  25.  25.  25.]\n",
      " [ 25.  25.  25.  25.  25.]\n",
      " [ 25.  25.  25.  25.  25.]]\n",
      "(3, 5)\n",
      "\n",
      "[[ 26.  26.  26.  26.  26.]\n",
      " [ 26.  26.  26.  26.  26.]\n",
      " [ 26.  26.  26.  26.  26.]]\n",
      "(3, 5)\n"
     ]
    }
   ],
   "source": [
    "# just looking at some Variable features including shapes.\n",
    "x = tf.ones([3, 25])\n",
    "W = tf.ones([25, 5])\n",
    "b = tf.ones([5])\n",
    "xW = tf.matmul(x,W); #dot product aka \"matrix multiply\"\n",
    "xWplusb = xW+b\n",
    "with tf.Session() as sess:\n",
    "    result = sess.run([x,W,b,xW,xWplusb])\n",
    "    print(result[0])\n",
    "    print(result[0].shape)\n",
    "    print()\n",
    "    print(result[1])\n",
    "    print(result[1].shape)\n",
    "    print()\n",
    "    print(result[2])\n",
    "    print(result[2].shape)\n",
    "    print()\n",
    "    print(result[3])\n",
    "    print(result[3].shape)\n",
    "    print()\n",
    "    print(result[4])\n",
    "    print(result[4].shape) \n"
   ]
  },
  {
   "cell_type": "code",
   "execution_count": null,
   "metadata": {
    "collapsed": true
   },
   "outputs": [],
   "source": []
  }
 ],
 "metadata": {
  "kernelspec": {
   "display_name": "Python 3",
   "language": "python",
   "name": "python3"
  },
  "language_info": {
   "codemirror_mode": {
    "name": "ipython",
    "version": 3
   },
   "file_extension": ".py",
   "mimetype": "text/x-python",
   "name": "python",
   "nbconvert_exporter": "python",
   "pygments_lexer": "ipython3",
   "version": "3.6.4"
  }
 },
 "nbformat": 4,
 "nbformat_minor": 1
}
