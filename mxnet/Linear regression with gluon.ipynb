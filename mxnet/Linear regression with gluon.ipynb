{
 "cells": [
  {
   "cell_type": "code",
   "execution_count": 1,
   "metadata": {},
   "outputs": [
    {
     "name": "stderr",
     "output_type": "stream",
     "text": [
      "/usr/local/lib/python3.6/site-packages/mxnet/optimizer.py:136: UserWarning: WARNING: New optimizer mxnet.optimizer.NAG is overriding existing optimizer mxnet.optimizer.NAG\n",
      "  Optimizer.opt_registry[name].__name__))\n"
     ]
    }
   ],
   "source": [
    "# Linear regression with gluon\n",
    "# jupyter: https://github.com/zackchase/mxnet-the-straight-dope\n",
    "# http://gluon.mxnet.io/chapter02_supervised-learning/linear-regression-gluon.html\n",
    "# note had to install pip3 install mxnet==1.1.0b20180208 because mxnet version 1.0.0 does not work\n",
    "from __future__ import print_function\n",
    "import mxnet as mx\n",
    "from mxnet import nd, autograd, gluon\n",
    "import sys"
   ]
  },
  {
   "cell_type": "code",
   "execution_count": 2,
   "metadata": {},
   "outputs": [],
   "source": [
    "# set contect\n",
    "data_ctx = mx.cpu()\n",
    "model_ctx = mx.cpu()\n",
    "\n",
    "#build data set\n",
    "num_inputs = 2\n",
    "num_outputs = 1\n",
    "num_examples = 10000\n",
    "\n",
    "def real_fn(X):\n",
    "    return 2 * X[:, 0] - 3.4 * X[:, 1] + 4.2\n",
    "\n",
    "X = nd.random_normal(shape=(num_examples, num_inputs))\n",
    "noise = 0.01 * nd.random_normal(shape=(num_examples,))\n",
    "y = real_fn(X) + noise\n",
    "\n",
    "# load iterator\n",
    "\n",
    "batch_size = 4\n",
    "train_data = gluon.data.DataLoader(gluon.data.ArrayDataset(X, y),\n",
    "                                      batch_size=batch_size, shuffle=True)"
   ]
  },
  {
   "cell_type": "code",
   "execution_count": 3,
   "metadata": {},
   "outputs": [
    {
     "name": "stdout",
     "output_type": "stream",
     "text": [
      "Parameter dense0_weight (shape=(1, 2), dtype=<class 'numpy.float32'>)\n",
      "Parameter dense0_bias (shape=(1,), dtype=<class 'numpy.float32'>)\n"
     ]
    }
   ],
   "source": [
    "# Define the model\n",
    "# http://gluon.mxnet.io/chapter02_supervised-learning/linear-regression-gluon.html#Define-the-model\n",
    "\n",
    "net = gluon.nn.Dense(1, in_units=2)\n",
    "# just as well to omit \"in_units\" see http://gluon.mxnet.io/chapter02_supervised-learning/linear-regression-gluon.html#Shape-inference\n",
    "# For example: net = gluon.nn.Dense(1)\n",
    "\n",
    "\n",
    "# TODO update mxnet to stable when issue mentioned in links is resolved\n",
    "# https://stackoverflow.com/questions/47755934/why-does-the-weight-matrix-of-the-mxnet-gluon-nn-dense-object-has-no-shape\n",
    "# https://github.com/apache/incubator-mxnet/commit/1852e2f47d68bb4c2373a359a2a8671b59cd14e5\n",
    "# https://github.com/apache/incubator-mxnet/commit/d77d937eaf7e13a30320368d316516bd9da52ca5\n",
    "print(net.weight)\n",
    "print(net.bias)"
   ]
  },
  {
   "cell_type": "code",
   "execution_count": 4,
   "metadata": {},
   "outputs": [
    {
     "data": {
      "text/plain": [
       "dense0_ (\n",
       "  Parameter dense0_weight (shape=(1, 2), dtype=<class 'numpy.float32'>)\n",
       "  Parameter dense0_bias (shape=(1,), dtype=<class 'numpy.float32'>)\n",
       ")"
      ]
     },
     "execution_count": 4,
     "metadata": {},
     "output_type": "execute_result"
    }
   ],
   "source": [
    "net.collect_params()"
   ]
  },
  {
   "cell_type": "code",
   "execution_count": 5,
   "metadata": {},
   "outputs": [
    {
     "name": "stdout",
     "output_type": "stream",
     "text": [
      "<class 'mxnet.gluon.parameter.ParameterDict'>\n"
     ]
    }
   ],
   "source": [
    "print(type(net.collect_params()))\n",
    "net.collect_params().initialize(mx.init.Normal(sigma=1.), ctx=model_ctx)"
   ]
  },
  {
   "cell_type": "code",
   "execution_count": 6,
   "metadata": {},
   "outputs": [
    {
     "data": {
      "text/plain": [
       "\n",
       "[[ 7.50436497]]\n",
       "<NDArray 1x1 @cpu(0)>"
      ]
     },
     "execution_count": 6,
     "metadata": {},
     "output_type": "execute_result"
    }
   ],
   "source": [
    "# pass some data\n",
    "example_data = nd.array([[4,7]])\n",
    "net(example_data)"
   ]
  },
  {
   "cell_type": "code",
   "execution_count": 7,
   "metadata": {},
   "outputs": [
    {
     "name": "stdout",
     "output_type": "stream",
     "text": [
      "\n",
      "[[ 0.9344402  0.5380863]]\n",
      "<NDArray 1x2 @cpu(0)>\n",
      "\n",
      "[ 0.]\n",
      "<NDArray 1 @cpu(0)>\n"
     ]
    }
   ],
   "source": [
    "print(net.weight.data())\n",
    "print(net.bias.data())"
   ]
  },
  {
   "cell_type": "code",
   "execution_count": 8,
   "metadata": {},
   "outputs": [],
   "source": [
    "# define loss and optimizer\n",
    "# http://gluon.mxnet.io/chapter02_supervised-learning/linear-regression-gluon.html#Define-loss\n",
    "#Loss\n",
    "square_loss = gluon.loss.L2Loss()\n",
    "# Optimizer\n",
    "trainer = gluon.Trainer(net.collect_params(), 'sgd', {'learning_rate': 0.0001})\n"
   ]
  },
  {
   "cell_type": "code",
   "execution_count": 9,
   "metadata": {},
   "outputs": [
    {
     "name": "stdout",
     "output_type": "stream",
     "text": [
      "Epoch 0, loss: 3.44441568905\n",
      "Epoch 1, loss: 2.06030158314\n",
      "Epoch 2, loss: 1.23239529221\n",
      "Epoch 3, loss: 0.737179080865\n",
      "Epoch 4, loss: 0.440960391181\n",
      "Epoch 5, loss: 0.263774137636\n",
      "Epoch 6, loss: 0.157787265977\n",
      "Epoch 7, loss: 0.0943901389235\n",
      "Epoch 8, loss: 0.0564677172326\n",
      "Epoch 9, loss: 0.0337827913052\n",
      "Epoch 10, loss: 0.020213217145\n",
      "Epoch 11, loss: 0.0120963067396\n",
      "Epoch 12, loss: 0.00724097125954\n",
      "Epoch 13, loss: 0.00433690361225\n",
      "Epoch 14, loss: 0.00259945482334\n"
     ]
    }
   ],
   "source": [
    "# runn the training\n",
    "epochs = 15\n",
    "loss_sequence = []\n",
    "num_batches = num_examples / batch_size\n",
    "\n",
    "for e in range(epochs):\n",
    "    cumulative_loss = 0\n",
    "    # inner loop\n",
    "    for i, (data, label) in enumerate(train_data):\n",
    "        data = data.as_in_context(model_ctx)\n",
    "        label = label.as_in_context(model_ctx)\n",
    "#         print(data)\n",
    "#         print(data.shape)\n",
    "#         print(label.shape);\n",
    "        with autograd.record():\n",
    "            output = net(data)\n",
    "            loss = square_loss(output, label)\n",
    "        loss.backward()\n",
    "        trainer.step(batch_size)\n",
    "        cumulative_loss += nd.mean(loss).asscalar()\n",
    "    print(\"Epoch %s, loss: %s\" % (e, cumulative_loss / num_examples))\n",
    "    loss_sequence.append(cumulative_loss)"
   ]
  },
  {
   "cell_type": "code",
   "execution_count": 10,
   "metadata": {},
   "outputs": [
    {
     "data": {
      "text/plain": [
       "Text(0,0.5,'average loss')"
      ]
     },
     "execution_count": 10,
     "metadata": {},
     "output_type": "execute_result"
    },
    {
     "data": {
      "image/png": "[encoded data removed]",
      "text/plain": [
       "<matplotlib.figure.Figure at 0x10b3a4d30>"
      ]
     },
     "metadata": {},
     "output_type": "display_data"
    }
   ],
   "source": [
    "#plot learning \n",
    "%matplotlib inline\n",
    "\n",
    "import matplotlib\n",
    "import matplotlib.pyplot as plt\n",
    "\n",
    "plt.figure(num=None,figsize=(8, 6))\n",
    "plt.plot(loss_sequence)\n",
    "\n",
    "# Adding some bells and whistles to the plot\n",
    "plt.grid(True, which=\"both\")\n",
    "plt.xlabel('epoch',fontsize=14)\n",
    "plt.ylabel('average loss',fontsize=14)"
   ]
  },
  {
   "cell_type": "code",
   "execution_count": 11,
   "metadata": {},
   "outputs": [
    {
     "name": "stdout",
     "output_type": "stream",
     "text": [
      "The type of \"params\" is a  <class 'mxnet.gluon.parameter.ParameterDict'>\n",
      "dense0_weight \n",
      "[[ 1.97578359 -3.31767774]]\n",
      "<NDArray 1x2 @cpu(0)>\n",
      "dense0_bias \n",
      "[ 4.1102643]\n",
      "<NDArray 1 @cpu(0)>\n"
     ]
    }
   ],
   "source": [
    "# Checking Learned model Parameters\n",
    "# http://gluon.mxnet.io/chapter02_supervised-learning/linear-regression-gluon.html#Getting-the-learned-model-parameters\n",
    "\n",
    "# def real_fn(X):\n",
    "#     return 2 * X[:, 0] - 3.4 * X[:, 1] + 4.2\n",
    "\n",
    "\n",
    "params = net.collect_params() # this returns a ParameterDict\n",
    "\n",
    "print('The type of \"params\" is a ',type(params))\n",
    "\n",
    "# A ParameterDict is a dictionary of Parameter class objects\n",
    "# therefore, here is how we can read off the parameters from it.\n",
    "\n",
    "for param in params.values():\n",
    "    print(param.name,param.data())"
   ]
  },
  {
   "cell_type": "code",
   "execution_count": 12,
   "metadata": {},
   "outputs": [
    {
     "name": "stdout",
     "output_type": "stream",
     "text": [
      "\n",
      "[[ 5.80844736]\n",
      " [ 2.10843849]]\n",
      "<NDArray 2x1 @cpu(0)>\n"
     ]
    }
   ],
   "source": [
    "example_data = nd.array([\n",
    "    [0.03629481, -0.49024421],\n",
    "    [-0.95017916,  0.03751944]\n",
    "])\n",
    "print(net(example_data))"
   ]
  },
  {
   "cell_type": "code",
   "execution_count": null,
   "metadata": {},
   "outputs": [],
   "source": []
  }
 ],
 "metadata": {
  "kernelspec": {
   "display_name": "Python 3",
   "language": "python",
   "name": "python3"
  },
  "language_info": {
   "codemirror_mode": {
    "name": "ipython",
    "version": 3
   },
   "file_extension": ".py",
   "mimetype": "text/x-python",
   "name": "python",
   "nbconvert_exporter": "python",
   "pygments_lexer": "ipython3",
   "version": "3.6.4"
  }
 },
 "nbformat": 4,
 "nbformat_minor": 2
}
