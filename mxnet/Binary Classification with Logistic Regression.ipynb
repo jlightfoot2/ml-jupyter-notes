{
 "cells": [
  {
   "cell_type": "code",
   "execution_count": 17,
   "metadata": {},
   "outputs": [
    {
     "data": {
      "image/png": "[encoded data removed]",
      "text/plain": [
       "<matplotlib.figure.Figure at 0x10482fa90>"
      ]
     },
     "metadata": {},
     "output_type": "display_data"
    }
   ],
   "source": [
    "# Logistic Regression\n",
    "# http://gluon.mxnet.io/chapter02_supervised-learning/logistic-regression-gluon.html\n",
    "import mxnet as mx\n",
    "from mxnet import nd, autograd, gluon\n",
    "import matplotlib.pyplot as plt\n",
    "from __future__ import print_function\n",
    "import numpy as np\n",
    "\n",
    "def logistic(z):\n",
    "    return 1. / (1. + nd.exp(-z))\n",
    "\n",
    "x = nd.arange(-5, 5, 0.1)\n",
    "y = logistic(x)\n",
    "\n",
    "plt.plot(x.asnumpy(),y.asnumpy())\n",
    "plt.show()"
   ]
  },
  {
   "cell_type": "code",
   "execution_count": 18,
   "metadata": {},
   "outputs": [],
   "source": [
    "# Data!\n",
    "# http://gluon.mxnet.io/chapter02_supervised-learning/logistic-regression-gluon.html#Data\n",
    "data_ctx = mx.cpu()\n",
    "# Change this to `mx.gpu(0) if you would like to train on an NVIDIA GPU\n",
    "model_ctx = mx.cpu()\n",
    "\n",
    "with open(\"../data/a1a.train\") as f:\n",
    "    train_raw = f.read()\n",
    "\n",
    "with open(\"../data/a1a.test\") as f:\n",
    "    test_raw = f.read()\n"
   ]
  },
  {
   "cell_type": "code",
   "execution_count": 19,
   "metadata": {},
   "outputs": [],
   "source": [
    "# Data prep\n",
    "def process_data(raw_data):\n",
    "    train_lines = raw_data.splitlines()\n",
    "    num_examples = len(train_lines)\n",
    "    num_features = 123\n",
    "    X = nd.zeros((num_examples, num_features), ctx=data_ctx)\n",
    "    Y = nd.zeros((num_examples, 1), ctx=data_ctx)\n",
    "    for i, line in enumerate(train_lines):\n",
    "        tokens = line.split()\n",
    "        label = (int(tokens[0]) + 1) / 2  # Change label from {-1,1} to {0,1}\n",
    "        Y[i] = label\n",
    "        for token in tokens[1:]:\n",
    "            index = int(token[:-2]) - 1\n",
    "            X[i, index] = 1\n",
    "    return X, Y\n",
    "\n",
    "Xtrain, Ytrain = process_data(train_raw)\n",
    "Xtest, Ytest = process_data(test_raw)"
   ]
  },
  {
   "cell_type": "code",
   "execution_count": 36,
   "metadata": {},
   "outputs": [
    {
     "name": "stdout",
     "output_type": "stream",
     "text": [
      "(1605, 123)\n",
      "(1605, 1)\n",
      "(30956, 123)\n",
      "(30956, 1)\n",
      "\n",
      "[ 0.24610592]\n",
      "<NDArray 1 @cpu(0)>\n",
      "\n",
      "[ 0.24053495]\n",
      "<NDArray 1 @cpu(0)>\n"
     ]
    }
   ],
   "source": [
    "# make sure data has correct shapes\n",
    "print(Xtrain.shape)\n",
    "print(Ytrain.shape)\n",
    "print(Xtest.shape)\n",
    "print(Ytest.shape)\n",
    "\n",
    "# We can also check the fraction of positive examples in our training and test sets. \n",
    "# This will give us one nice (necessay but insufficient) sanity check that our training \n",
    "# and test data really are drawn from the same distribution.\n",
    "print(nd.sum(Ytrain)/len(Ytrain))\n",
    "print(nd.sum(Ytest)/len(Ytest))"
   ]
  },
  {
   "cell_type": "code",
   "execution_count": 37,
   "metadata": {},
   "outputs": [],
   "source": [
    "# instantiate data loader\n",
    "batch_size = 64\n",
    "\n",
    "train_data = gluon.data.DataLoader(gluon.data.ArrayDataset(Xtrain, Ytrain),\n",
    "                                      batch_size=batch_size, shuffle=True)\n",
    "\n",
    "test_data = gluon.data.DataLoader(gluon.data.ArrayDataset(Xtest, Ytest),\n",
    "                                      batch_size=batch_size, shuffle=True)\n",
    "\n",
    "# Define Model\n",
    "net = gluon.nn.Dense(1)\n",
    "net.collect_params().initialize(mx.init.Normal(sigma=1.), ctx=model_ctx)\n",
    "\n",
    "# instantiate optimizer\n",
    "trainer = gluon.Trainer(net.collect_params(), 'sgd', {'learning_rate': 0.01})\n",
    "# loss function (handmade)\n",
    "\n"
   ]
  },
  {
   "cell_type": "code",
   "execution_count": 38,
   "metadata": {},
   "outputs": [
    {
     "name": "stdout",
     "output_type": "stream",
     "text": [
      "Epoch 0, loss: 3015.13751602\n",
      "Epoch 1, loss: 2540.73989534\n",
      "Epoch 2, loss: 2224.74924278\n",
      "Epoch 3, loss: 2013.18921566\n",
      "Epoch 4, loss: 1867.67290306\n",
      "Epoch 5, loss: 1764.16248608\n",
      "Epoch 6, loss: 1687.36694288\n",
      "Epoch 7, loss: 1627.08540821\n",
      "Epoch 8, loss: 1578.0642612\n",
      "Epoch 9, loss: 1536.89241719\n",
      "Epoch 10, loss: 1500.96107101\n",
      "Epoch 11, loss: 1468.69545019\n",
      "Epoch 12, loss: 1439.16143799\n",
      "Epoch 13, loss: 1411.85789871\n",
      "Epoch 14, loss: 1386.19249344\n",
      "Epoch 15, loss: 1362.13398123\n",
      "Epoch 16, loss: 1339.23761386\n",
      "Epoch 17, loss: 1317.46235359\n",
      "Epoch 18, loss: 1296.6304431\n",
      "Epoch 19, loss: 1276.86709487\n",
      "Epoch 20, loss: 1257.89353752\n",
      "Epoch 21, loss: 1239.68704653\n",
      "Epoch 22, loss: 1222.39107728\n",
      "Epoch 23, loss: 1205.68341017\n",
      "Epoch 24, loss: 1189.69730473\n",
      "Epoch 25, loss: 1174.39500189\n",
      "Epoch 26, loss: 1159.7017622\n",
      "Epoch 27, loss: 1145.5148592\n",
      "Epoch 28, loss: 1131.88916302\n",
      "Epoch 29, loss: 1118.92273021\n",
      "Epoch 30, loss: 1106.22411823\n",
      "Epoch 31, loss: 1094.24569154\n",
      "Epoch 32, loss: 1082.66067815\n",
      "Epoch 33, loss: 1071.4449451\n",
      "Epoch 34, loss: 1060.61276269\n",
      "Epoch 35, loss: 1050.29281235\n",
      "Epoch 36, loss: 1040.42833781\n",
      "Epoch 37, loss: 1030.69223213\n",
      "Epoch 38, loss: 1021.35576344\n",
      "Epoch 39, loss: 1012.38853085\n",
      "Epoch 40, loss: 1003.87670422\n",
      "Epoch 41, loss: 995.392801285\n",
      "Epoch 42, loss: 987.307442188\n",
      "Epoch 43, loss: 979.493387699\n",
      "Epoch 44, loss: 971.885278702\n",
      "Epoch 45, loss: 964.651908517\n",
      "Epoch 46, loss: 957.553898692\n",
      "Epoch 47, loss: 950.75938952\n",
      "Epoch 48, loss: 944.02077198\n",
      "Epoch 49, loss: 937.604947507\n",
      "Epoch 50, loss: 931.313036442\n",
      "Epoch 51, loss: 925.327160835\n",
      "Epoch 52, loss: 919.418725491\n",
      "Epoch 53, loss: 913.71651721\n",
      "Epoch 54, loss: 908.153253794\n",
      "Epoch 55, loss: 902.797098279\n",
      "Epoch 56, loss: 897.515256286\n",
      "Epoch 57, loss: 892.429144502\n",
      "Epoch 58, loss: 887.584324121\n",
      "Epoch 59, loss: 882.788127899\n",
      "Epoch 60, loss: 878.020483017\n",
      "Epoch 61, loss: 873.38924849\n",
      "Epoch 62, loss: 868.904157639\n",
      "Epoch 63, loss: 864.803039312\n",
      "Epoch 64, loss: 860.431757689\n",
      "Epoch 65, loss: 856.331427693\n",
      "Epoch 66, loss: 852.308858871\n",
      "Epoch 67, loss: 848.378570557\n",
      "Epoch 68, loss: 844.516546726\n",
      "Epoch 69, loss: 840.730607033\n",
      "Epoch 70, loss: 837.095433474\n",
      "Epoch 71, loss: 833.55906105\n",
      "Epoch 72, loss: 830.051392555\n",
      "Epoch 73, loss: 826.664994597\n",
      "Epoch 74, loss: 823.34607178\n",
      "Epoch 75, loss: 820.056791067\n",
      "Epoch 76, loss: 816.88651216\n",
      "Epoch 77, loss: 813.790298223\n",
      "Epoch 78, loss: 810.620981216\n",
      "Epoch 79, loss: 807.669218302\n",
      "Epoch 80, loss: 804.751283646\n",
      "Epoch 81, loss: 801.865379445\n",
      "Epoch 82, loss: 799.01928854\n",
      "Epoch 83, loss: 796.309978247\n",
      "Epoch 84, loss: 793.55363667\n",
      "Epoch 85, loss: 790.878191471\n",
      "Epoch 86, loss: 788.288095474\n",
      "Epoch 87, loss: 785.710647225\n",
      "Epoch 88, loss: 783.158645868\n",
      "Epoch 89, loss: 780.726543427\n",
      "Epoch 90, loss: 778.285997629\n",
      "Epoch 91, loss: 775.923585892\n",
      "Epoch 92, loss: 773.622848034\n",
      "Epoch 93, loss: 771.399867773\n",
      "Epoch 94, loss: 769.084404945\n",
      "Epoch 95, loss: 766.808291674\n",
      "Epoch 96, loss: 764.632621527\n",
      "Epoch 97, loss: 762.526303053\n",
      "Epoch 98, loss: 760.359683037\n",
      "Epoch 99, loss: 758.278197289\n"
     ]
    }
   ],
   "source": [
    "# Define Loss\n",
    "# http://gluon.mxnet.io/chapter02_supervised-learning/logistic-regression-gluon.html#Define-log-loss\n",
    "# test_count = 0\n",
    "def log_loss(output, y):\n",
    "#     global test_count\n",
    "    yhat = logistic(output)\n",
    "#     if test_count < 4:\n",
    "#         print(yhat)\n",
    "#     test_count = test_count + 1\n",
    "    return  - nd.nansum(  y * nd.log(yhat) + (1-y) * nd.log(1-yhat))\n",
    "\n",
    "epochs = 100\n",
    "loss_sequence = []\n",
    "num_examples = len(Xtrain)\n",
    "\n",
    "for e in range(epochs):\n",
    "    cumulative_loss = 0\n",
    "    for i, (data, label) in enumerate(train_data):\n",
    "        data = data.as_in_context(model_ctx)\n",
    "        label = label.as_in_context(model_ctx)\n",
    "        with autograd.record():\n",
    "            output = net(data)\n",
    "            loss = log_loss(output, label)\n",
    "        loss.backward()\n",
    "        trainer.step(batch_size)\n",
    "        cumulative_loss += nd.sum(loss).asscalar()\n",
    "    print(\"Epoch %s, loss: %s\" % (e, cumulative_loss ))\n",
    "    loss_sequence.append(cumulative_loss)"
   ]
  },
  {
   "cell_type": "code",
   "execution_count": 39,
   "metadata": {},
   "outputs": [
    {
     "data": {
      "text/plain": [
       "Text(0,0.5,'average loss')"
      ]
     },
     "execution_count": 39,
     "metadata": {},
     "output_type": "execute_result"
    },
    {
     "data": {
      "image/png": "[encoded data removed]",
      "text/plain": [
       "<matplotlib.figure.Figure at 0x10c078080>"
      ]
     },
     "metadata": {},
     "output_type": "display_data"
    }
   ],
   "source": [
    "# plot the convergence of the estimated loss function\n",
    "%matplotlib inline\n",
    "\n",
    "import matplotlib\n",
    "import matplotlib.pyplot as plt\n",
    "\n",
    "plt.figure(num=None,figsize=(8, 6))\n",
    "plt.plot(loss_sequence)\n",
    "\n",
    "# Adding some bells and whistles to the plot\n",
    "plt.grid(True, which=\"both\")\n",
    "plt.xlabel('epoch',fontsize=14)\n",
    "plt.ylabel('average loss',fontsize=14)"
   ]
  },
  {
   "cell_type": "code",
   "execution_count": 40,
   "metadata": {},
   "outputs": [
    {
     "name": "stdout",
     "output_type": "stream",
     "text": [
      "Accuracy: 0.787 (24377.0/30956)\n"
     ]
    }
   ],
   "source": [
    "# calculate accuracy\n",
    "# http://gluon.mxnet.io/chapter02_supervised-learning/logistic-regression-gluon.html#Calculating-accuracy\n",
    "num_correct = 0.0\n",
    "num_total = len(Xtest)\n",
    "for i, (data, label) in enumerate(test_data):\n",
    "    data = data.as_in_context(model_ctx)\n",
    "    label = label.as_in_context(model_ctx)\n",
    "    output = net(data)\n",
    "#     print(nd.sign(output))\n",
    "    prediction = (nd.sign(output) + 1) / 2\n",
    "    num_correct += nd.sum(prediction == label)\n",
    "print(\"Accuracy: %0.3f (%s/%s)\" % (num_correct.asscalar()/num_total, num_correct.asscalar(), num_total))"
   ]
  },
  {
   "cell_type": "code",
   "execution_count": null,
   "metadata": {},
   "outputs": [],
   "source": []
  },
  {
   "cell_type": "code",
   "execution_count": null,
   "metadata": {},
   "outputs": [],
   "source": []
  }
 ],
 "metadata": {
  "kernelspec": {
   "display_name": "Python 3",
   "language": "python",
   "name": "python3"
  },
  "language_info": {
   "codemirror_mode": {
    "name": "ipython",
    "version": 3
   },
   "file_extension": ".py",
   "mimetype": "text/x-python",
   "name": "python",
   "nbconvert_exporter": "python",
   "pygments_lexer": "ipython3",
   "version": "3.6.4"
  }
 },
 "nbformat": 4,
 "nbformat_minor": 2
}
