{
 "cells": [
  {
   "cell_type": "code",
   "execution_count": 20,
   "metadata": {},
   "outputs": [
    {
     "data": {
      "image/png": "[encoded data removed]",
      "text/plain": [
       "<matplotlib.figure.Figure at 0x111a8f358>"
      ]
     },
     "metadata": {},
     "output_type": "display_data"
    }
   ],
   "source": [
    "# Logistic Regression\n",
    "# http://gluon.mxnet.io/chapter02_supervised-learning/logistic-regression-gluon.html\n",
    "import mxnet as mx\n",
    "from mxnet import nd, autograd, gluon\n",
    "import matplotlib.pyplot as plt\n",
    "\n",
    "def logistic(z):\n",
    "    return 1. / (1. + nd.exp(-z))\n",
    "\n",
    "x = nd.arange(-5, 5, 0.1)\n",
    "y = logistic(x)\n",
    "\n",
    "plt.plot(x.asnumpy(),y.asnumpy())\n",
    "plt.show()"
   ]
  },
  {
   "cell_type": "code",
   "execution_count": 21,
   "metadata": {},
   "outputs": [],
   "source": [
    "# Data!\n",
    "# http://gluon.mxnet.io/chapter02_supervised-learning/logistic-regression-gluon.html#Data\n",
    "data_ctx = mx.cpu()\n",
    "# Change this to `mx.gpu(0) if you would like to train on an NVIDIA GPU\n",
    "model_ctx = mx.cpu()\n",
    "\n",
    "with open(\"../data/a1a.train\") as f:\n",
    "    train_raw = f.read()\n",
    "\n",
    "with open(\"../data/a1a.test\") as f:\n",
    "    test_raw = f.read()\n"
   ]
  },
  {
   "cell_type": "code",
   "execution_count": 14,
   "metadata": {},
   "outputs": [],
   "source": [
    "# Data prep\n",
    "def process_data(raw_data):\n",
    "    train_lines = raw_data.splitlines()\n",
    "    num_examples = len(train_lines)\n",
    "    num_features = 123\n",
    "    X = nd.zeros((num_examples, num_features), ctx=data_ctx)\n",
    "    Y = nd.zeros((num_examples, 1), ctx=data_ctx)\n",
    "    for i, line in enumerate(train_lines):\n",
    "        tokens = line.split()\n",
    "        label = (int(tokens[0]) + 1) / 2  # Change label from {-1,1} to {0,1}\n",
    "        Y[i] = label\n",
    "        for token in tokens[1:]:\n",
    "            index = int(token[:-2]) - 1\n",
    "            X[i, index] = 1\n",
    "    return X, Y\n",
    "\n",
    "Xtrain, Ytrain = process_data(train_raw)\n",
    "Xtest, Ytest = process_data(test_raw)"
   ]
  },
  {
   "cell_type": "code",
   "execution_count": 15,
   "metadata": {},
   "outputs": [
    {
     "name": "stdout",
     "output_type": "stream",
     "text": [
      "(1605, 123)\n",
      "(1605, 1)\n",
      "(30956, 123)\n",
      "(30956, 1)\n",
      "\n",
      "[ 0.24610592]\n",
      "<NDArray 1 @cpu(0)>\n",
      "\n",
      "[ 0.24053495]\n",
      "<NDArray 1 @cpu(0)>\n"
     ]
    }
   ],
   "source": [
    "# make sure data has correct shapes\n",
    "print(Xtrain.shape)\n",
    "print(Ytrain.shape)\n",
    "print(Xtest.shape)\n",
    "print(Ytest.shape)\n",
    "\n",
    "# We can also check the fraction of positive examples in our training and test sets. \n",
    "# This will give us one nice (necessay but insufficient) sanity check that our training \n",
    "# and test data really are drawn from the same distribution.\n",
    "print(nd.sum(Ytrain)/len(Ytrain))\n",
    "print(nd.sum(Ytest)/len(Ytest))"
   ]
  },
  {
   "cell_type": "code",
   "execution_count": 56,
   "metadata": {},
   "outputs": [],
   "source": [
    "# instantiate data loader\n",
    "batch_size = 64\n",
    "\n",
    "train_data = gluon.data.DataLoader(gluon.data.ArrayDataset(Xtrain, Ytrain),\n",
    "                                      batch_size=batch_size, shuffle=True)\n",
    "\n",
    "test_data = gluon.data.DataLoader(gluon.data.ArrayDataset(Xtest, Ytest),\n",
    "                                      batch_size=batch_size, shuffle=True)\n",
    "\n",
    "# Define Model\n",
    "# net = gluon.nn.Dense(1)\n",
    "# net.collect_params().initialize(mx.init.Normal(sigma=1.), ctx=model_ctx)\n",
    "\n",
    "num_hidden = 64\n",
    "net = gluon.nn.Sequential()\n",
    "with net.name_scope():\n",
    "    net.add(gluon.nn.Dense(num_hidden, activation=\"relu\"))\n",
    "    net.add(gluon.nn.Dense(num_hidden, activation=\"relu\"))\n",
    "    net.add(gluon.nn.Dense(num_hidden, activation=\"relu\"))\n",
    "    net.add(gluon.nn.Dense(1))\n",
    "\n",
    "net.collect_params().initialize(mx.init.Normal(sigma=.1), ctx=model_ctx)\n",
    "\n",
    "# instantiate optimizer\n",
    "trainer = gluon.Trainer(net.collect_params(), 'sgd', {'learning_rate': 0.01})\n",
    "# loss function (handmade)\n",
    "\n"
   ]
  },
  {
   "cell_type": "code",
   "execution_count": null,
   "metadata": {},
   "outputs": [
    {
     "name": "stdout",
     "output_type": "stream",
     "text": [
      "Epoch 0, loss: 1097.13782978\n",
      "Epoch 1, loss: 1057.82266903\n",
      "Epoch 2, loss: 1023.74358296\n",
      "Epoch 3, loss: 993.780549765\n",
      "Epoch 4, loss: 967.351192951\n",
      "Epoch 5, loss: 944.257401705\n",
      "Epoch 6, loss: 924.390958548\n",
      "Epoch 7, loss: 907.689769745\n",
      "Epoch 8, loss: 893.623407841\n",
      "Epoch 9, loss: 882.074290991\n",
      "Epoch 10, loss: 872.529932022\n",
      "Epoch 11, loss: 864.472002983\n",
      "Epoch 12, loss: 857.439898968\n",
      "Epoch 13, loss: 851.151752472\n",
      "Epoch 14, loss: 845.222689629\n",
      "Epoch 15, loss: 839.425523758\n",
      "Epoch 16, loss: 833.591280937\n",
      "Epoch 17, loss: 827.558641672\n",
      "Epoch 18, loss: 821.308892965\n",
      "Epoch 19, loss: 814.732054472\n",
      "Epoch 20, loss: 807.986001015\n",
      "Epoch 21, loss: 800.638444424\n",
      "Epoch 22, loss: 793.121937752\n",
      "Epoch 23, loss: 785.269663334\n",
      "Epoch 24, loss: 777.08172822\n",
      "Epoch 25, loss: 768.515458465\n",
      "Epoch 26, loss: 759.715805054\n",
      "Epoch 27, loss: 750.852165699\n",
      "Epoch 28, loss: 741.845653057\n",
      "Epoch 29, loss: 732.943142653\n",
      "Epoch 30, loss: 724.299576402\n",
      "Epoch 31, loss: 715.899911404\n",
      "Epoch 32, loss: 707.781396747\n",
      "Epoch 33, loss: 700.137956858\n",
      "Epoch 34, loss: 692.972446948\n",
      "Epoch 35, loss: 686.082228422\n",
      "Epoch 36, loss: 679.774756789\n",
      "Epoch 37, loss: 673.607542634\n",
      "Epoch 38, loss: 667.98189497\n",
      "Epoch 39, loss: 662.53558135\n",
      "Epoch 40, loss: 657.013259411\n",
      "Epoch 41, loss: 652.285069048\n",
      "Epoch 42, loss: 647.372599483\n",
      "Epoch 43, loss: 642.787606597\n",
      "Epoch 44, loss: 638.533985138\n",
      "Epoch 45, loss: 634.212785244\n",
      "Epoch 46, loss: 630.011098146\n",
      "Epoch 47, loss: 626.031642556\n",
      "Epoch 48, loss: 622.446175009\n",
      "Epoch 49, loss: 618.846867561\n",
      "Epoch 50, loss: 615.584070683\n",
      "Epoch 51, loss: 611.727724671\n",
      "Epoch 52, loss: 608.428199768\n",
      "Epoch 53, loss: 605.370749474\n",
      "Epoch 54, loss: 602.097380161\n",
      "Epoch 55, loss: 599.197146893\n",
      "Epoch 56, loss: 596.282899618\n",
      "Epoch 57, loss: 593.454856515\n",
      "Epoch 58, loss: 590.874885559\n",
      "Epoch 59, loss: 588.152050138\n"
     ]
    }
   ],
   "source": [
    "# Define Loss\n",
    "# http://gluon.mxnet.io/chapter02_supervised-learning/logistic-regression-gluon.html#Define-log-loss\n",
    "# test_count = 0\n",
    "def log_loss(output, y):\n",
    "#     global test_count\n",
    "    yhat = logistic(output)\n",
    "#     if test_count < 4:\n",
    "#         print(yhat)\n",
    "#     test_count = test_count + 1\n",
    "    return  - nd.nansum(  y * nd.log(yhat) + (1-y) * nd.log(1-yhat))\n",
    "\n",
    "epochs = 100\n",
    "loss_sequence = []\n",
    "num_examples = len(Xtrain)\n",
    "\n",
    "for e in range(epochs):\n",
    "    cumulative_loss = 0\n",
    "    for i, (data, label) in enumerate(train_data):\n",
    "        data = data.as_in_context(model_ctx)\n",
    "        label = label.as_in_context(model_ctx)\n",
    "        with autograd.record():\n",
    "            output = net(data)\n",
    "            loss = log_loss(output, label)\n",
    "        loss.backward()\n",
    "        trainer.step(batch_size)\n",
    "        cumulative_loss += nd.sum(loss).asscalar()\n",
    "    print(\"Epoch %s, loss: %s\" % (e, cumulative_loss ))\n",
    "    loss_sequence.append(cumulative_loss)"
   ]
  },
  {
   "cell_type": "code",
   "execution_count": 53,
   "metadata": {},
   "outputs": [
    {
     "data": {
      "text/plain": [
       "Text(0,0.5,'average loss')"
      ]
     },
     "execution_count": 53,
     "metadata": {},
     "output_type": "execute_result"
    },
    {
     "data": {
      "image/png": "[encoded data removed]",
      "text/plain": [
       "<matplotlib.figure.Figure at 0x11953cda0>"
      ]
     },
     "metadata": {},
     "output_type": "display_data"
    }
   ],
   "source": [
    "# plot the convergence of the estimated loss function\n",
    "%matplotlib inline\n",
    "\n",
    "import matplotlib\n",
    "import matplotlib.pyplot as plt\n",
    "\n",
    "plt.figure(num=None,figsize=(8, 6))\n",
    "plt.plot(loss_sequence)\n",
    "\n",
    "# Adding some bells and whistles to the plot\n",
    "plt.grid(True, which=\"both\")\n",
    "plt.xlabel('epoch',fontsize=14)\n",
    "plt.ylabel('average loss',fontsize=14)"
   ]
  },
  {
   "cell_type": "code",
   "execution_count": 55,
   "metadata": {},
   "outputs": [
    {
     "name": "stdout",
     "output_type": "stream",
     "text": [
      "Accuracy: 0.839 (25960.0/30956)\n"
     ]
    }
   ],
   "source": [
    "# calculate accuracy\n",
    "# http://gluon.mxnet.io/chapter02_supervised-learning/logistic-regression-gluon.html#Calculating-accuracy\n",
    "num_correct = 0.0\n",
    "num_total = len(Xtest)\n",
    "for i, (data, label) in enumerate(test_data):\n",
    "    data = data.as_in_context(model_ctx)\n",
    "    label = label.as_in_context(model_ctx)\n",
    "    output = net(data)\n",
    "#     print(nd.sign(output))\n",
    "    prediction = (nd.sign(output) + 1) / 2\n",
    "    num_correct += nd.sum(prediction == label)\n",
    "print(\"Accuracy: %0.3f (%s/%s)\" % (num_correct.asscalar()/num_total, num_correct.asscalar(), num_total))"
   ]
  },
  {
   "cell_type": "code",
   "execution_count": null,
   "metadata": {},
   "outputs": [],
   "source": []
  },
  {
   "cell_type": "code",
   "execution_count": null,
   "metadata": {},
   "outputs": [],
   "source": []
  }
 ],
 "metadata": {
  "kernelspec": {
   "display_name": "Python 3",
   "language": "python",
   "name": "python3"
  },
  "language_info": {
   "codemirror_mode": {
    "name": "ipython",
    "version": 3
   },
   "file_extension": ".py",
   "mimetype": "text/x-python",
   "name": "python",
   "nbconvert_exporter": "python",
   "pygments_lexer": "ipython3",
   "version": "3.6.4"
  }
 },
 "nbformat": 4,
 "nbformat_minor": 2
}
