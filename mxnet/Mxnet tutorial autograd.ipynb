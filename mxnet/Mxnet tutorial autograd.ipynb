{
 "cells": [
  {
   "cell_type": "code",
   "execution_count": 1,
   "metadata": {},
   "outputs": [],
   "source": [
    "# Autograd\n",
    "# http://gluon.mxnet.io/chapter01_crashcourse/autograd.html\n",
    "\n",
    "#jupyter: https://github.com/zackchase/mxnet-the-straight-dope\n",
    "#jupyter: https://github.com/zackchase/mxnet-the-straight-dope/tree/master/chapter01_crashcourse\n",
    "\n",
    "import mxnet as mx\n",
    "from mxnet import nd, autograd\n",
    "mx.random.seed(1)"
   ]
  },
  {
   "cell_type": "code",
   "execution_count": 2,
   "metadata": {},
   "outputs": [
    {
     "name": "stdout",
     "output_type": "stream",
     "text": [
      "\n",
      "x (start) = \n",
      "\n",
      "[[1. 2.]\n",
      " [3. 4.]]\n",
      "<NDArray 2x2 @cpu(0)>\n",
      "\n",
      "x.grad (start) = \n",
      "\n",
      "[[0. 0.]\n",
      " [0. 0.]]\n",
      "<NDArray 2x2 @cpu(0)>\n",
      "\n",
      "y = \n",
      "\n",
      "[[2. 4.]\n",
      " [6. 8.]]\n",
      "<NDArray 2x2 @cpu(0)>\n",
      "\n",
      "z = \n",
      "\n",
      "[[ 2.  8.]\n",
      " [18. 32.]]\n",
      "<NDArray 2x2 @cpu(0)>\n",
      "\n",
      "x.grad = \n",
      "\n",
      "[[ 4.  8.]\n",
      " [12. 16.]]\n",
      "<NDArray 2x2 @cpu(0)>\n",
      "\n",
      "x = \n",
      "\n",
      "[[1. 2.]\n",
      " [3. 4.]]\n",
      "<NDArray 2x2 @cpu(0)>\n"
     ]
    }
   ],
   "source": [
    "# differentiating a function f = 2 * (x ** 2)\n",
    "x = nd.array([[1, 2], [3, 4]])\n",
    "x.attach_grad()\n",
    "\n",
    "print(\"\\nx (start) = \")\n",
    "print(x)\n",
    "print(\"\\nx.grad (start) = \")\n",
    "print(x.grad)\n",
    "\n",
    "with autograd.record():\n",
    "    y = x * 2\n",
    "    print(\"\\ny = \")\n",
    "    print(y)\n",
    "    z = y * x\n",
    "    print(\"\\nz = \")\n",
    "    print(z)\n",
    "\n",
    "z.backward() #calculates gradients of  reviously marked variables (in this case x)\n",
    "print(\"\\nx.grad = \")\n",
    "print(x.grad)\n",
    "print(\"\\nx = \")\n",
    "print(x)"
   ]
  },
  {
   "cell_type": "code",
   "execution_count": null,
   "metadata": {},
   "outputs": [],
   "source": []
  }
 ],
 "metadata": {
  "kernelspec": {
   "display_name": "Python 3",
   "language": "python",
   "name": "python3"
  },
  "language_info": {
   "codemirror_mode": {
    "name": "ipython",
    "version": 3
   },
   "file_extension": ".py",
   "mimetype": "text/x-python",
   "name": "python",
   "nbconvert_exporter": "python",
   "pygments_lexer": "ipython3",
   "version": "3.6.4"
  }
 },
 "nbformat": 4,
 "nbformat_minor": 2
}
