{
 "cells": [
  {
   "cell_type": "code",
   "execution_count": 1,
   "metadata": {},
   "outputs": [],
   "source": [
    "# linear algebra\n",
    "# http://gluon.mxnet.io/chapter01_crashcourse/linear-algebra.html#Linear-algebra\n",
    "import mxnet as mx\n",
    "from mxnet import nd"
   ]
  },
  {
   "cell_type": "code",
   "execution_count": 7,
   "metadata": {},
   "outputs": [
    {
     "name": "stdout",
     "output_type": "stream",
     "text": [
      "\n",
      "[3.]\n",
      "<NDArray 1 @cpu(0)> \n",
      "[2.]\n",
      "<NDArray 1 @cpu(0)>\n",
      "\n",
      "3.0\n",
      "1.0\n"
     ]
    }
   ],
   "source": [
    "# In MXNet, we work with scalars by creating NDArrays with just one element.\n",
    "\n",
    "##########################\n",
    "# Instantiate two scalars\n",
    "##########################\n",
    "x = nd.array([3.0])\n",
    "y = nd.array([2.0])\n",
    "print(x,y)\n",
    "\n",
    "print()\n",
    "#convert to scalar - Not in-place\n",
    "print(x.asscalar())\n",
    "print(1.0)\n"
   ]
  },
  {
   "cell_type": "code",
   "execution_count": 11,
   "metadata": {},
   "outputs": [
    {
     "name": "stdout",
     "output_type": "stream",
     "text": [
      "\n",
      "[2. 4. 6.]\n",
      "<NDArray 3 @cpu(0)>\n",
      "\n",
      "[12. 24. 36.]\n",
      "<NDArray 3 @cpu(0)>\n",
      "(3,)\n",
      "\n",
      "[[10. 20. 30.]\n",
      " [ 1.  2.  3.]]\n",
      "<NDArray 2x3 @cpu(0)>\n",
      "(2, 3)\n"
     ]
    }
   ],
   "source": [
    "# shapes\n",
    "a = 2\n",
    "x = nd.array([1,2,3])\n",
    "y = nd.array([10,20,30])\n",
    "asdf = nd.array([[10,20,30],[1,2,3]])\n",
    "print(a * x)\n",
    "print(a * x + y)\n",
    "\n",
    "print(x.shape)\n",
    "print(asdf)\n",
    "print(asdf.shape)\n"
   ]
  },
  {
   "cell_type": "code",
   "execution_count": 12,
   "metadata": {},
   "outputs": [
    {
     "name": "stdout",
     "output_type": "stream",
     "text": [
      "v = \n",
      "[2. 2. 2. 2.]\n",
      "<NDArray 4 @cpu(0)>\n",
      "u + v \n",
      "[ 3.  4.  6. 10.]\n",
      "<NDArray 4 @cpu(0)>\n",
      "u - v \n",
      "[-1.  0.  2.  6.]\n",
      "<NDArray 4 @cpu(0)>\n",
      "u * v \n",
      "[ 2.  4.  8. 16.]\n",
      "<NDArray 4 @cpu(0)>\n",
      "u / v \n",
      "[0.5 1.  2.  4. ]\n",
      "<NDArray 4 @cpu(0)>\n"
     ]
    }
   ],
   "source": [
    "# element-wise operations\n",
    "u = nd.array([1, 2, 4, 8])\n",
    "v = nd.ones_like(u) * 2 # ones_like copies the shape of argument and create array of ones\n",
    "print('v =', v)\n",
    "print('u + v', u + v)\n",
    "print('u - v', u - v)\n",
    "print('u * v', u * v)\n",
    "print('u / v', u / v)"
   ]
  },
  {
   "cell_type": "code",
   "execution_count": 25,
   "metadata": {},
   "outputs": [
    {
     "name": "stdout",
     "output_type": "stream",
     "text": [
      "\n",
      "[15.]\n",
      "<NDArray 1 @cpu(0)>\n",
      "\n",
      "[3.75]\n",
      "<NDArray 1 @cpu(0)>\n",
      "\n",
      "[66.]\n",
      "<NDArray 1 @cpu(0)>\n",
      "\n",
      "[11.]\n",
      "<NDArray 1 @cpu(0)>\n"
     ]
    }
   ],
   "source": [
    "# sums and means\n",
    "\n",
    "print(nd.sum(u))\n",
    "print(nd.mean(u))\n",
    "\n",
    "#multi dim\n",
    "md1 = nd.array([[10,20,30],[1,2,3]])\n",
    "md2 = nd.array([[11,21,31],[4,5,6]])\n",
    "print(nd.sum(md1))\n",
    "print(nd.mean(md1))"
   ]
  },
  {
   "cell_type": "code",
   "execution_count": 31,
   "metadata": {},
   "outputs": [
    {
     "name": "stdout",
     "output_type": "stream",
     "text": [
      "\n",
      "[30.]\n",
      "<NDArray 1 @cpu(0)>\n",
      "\n",
      "[30.]\n",
      "<NDArray 1 @cpu(0)>\n",
      "\n",
      "[[114. 215. 316.]\n",
      " [228. 430. 632.]\n",
      " [342. 645. 948.]]\n",
      "<NDArray 3x3 @cpu(0)>\n",
      "\n",
      "[[1460.  320.]\n",
      " [ 146.   32.]]\n",
      "<NDArray 2x2 @cpu(0)>\n",
      "\n",
      "[1492.]\n",
      "<NDArray 1 @cpu(0)>\n",
      "\n",
      "[1. 2. 4. 8.]\n",
      "<NDArray 4 @cpu(0)>\n",
      "\n",
      "[1. 2. 4. 8.]\n",
      "<NDArray 4 @cpu(0)>\n",
      "\n",
      "[[10. 20. 30.]\n",
      " [ 1.  2.  3.]]\n",
      "<NDArray 2x3 @cpu(0)>\n",
      "\n",
      "[[10.  1.]\n",
      " [20.  2.]\n",
      " [30.  3.]]\n",
      "<NDArray 3x2 @cpu(0)>\n"
     ]
    }
   ],
   "source": [
    "# dot products\n",
    "\n",
    "#!!! nd.dot(u, v) === nd.sum(u * v) ?? not the case with matrices\n",
    "#dot product on vector\n",
    "print(nd.dot(u, v))\n",
    "print(nd.sum(u * v))\n",
    "#dot product on matrix # don't forget to transpose\n",
    "print(nd.dot(md1.T, md2)) # 3x2 * 2x3 = 3x3\n",
    "print(nd.dot(md1, md2.T)) # 2x3 * 3x2 = 2x2\n",
    "print(nd.sum(md1 * md2)) # !! nd.sum(md1 * md2) != nd.dot(md1, md2.T)\n",
    "# print(nd.sum(md1 * md2))\n",
    "#transpose vector\n",
    "print(u)\n",
    "print(u.T)\n",
    "#transpose matrix\n",
    "print(md1)\n",
    "print(md1.T)"
   ]
  },
  {
   "cell_type": "code",
   "execution_count": null,
   "metadata": {},
   "outputs": [],
   "source": [
    "# Norms\n",
    "# http://gluon.mxnet.io/chapter01_crashcourse/linear-algebra.html#Norms"
   ]
  }
 ],
 "metadata": {
  "kernelspec": {
   "display_name": "Python 3",
   "language": "python",
   "name": "python3"
  },
  "language_info": {
   "codemirror_mode": {
    "name": "ipython",
    "version": 3
   },
   "file_extension": ".py",
   "mimetype": "text/x-python",
   "name": "python",
   "nbconvert_exporter": "python",
   "pygments_lexer": "ipython3",
   "version": "3.6.4"
  }
 },
 "nbformat": 4,
 "nbformat_minor": 2
}
