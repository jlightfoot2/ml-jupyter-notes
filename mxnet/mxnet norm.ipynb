{
 "cells": [
  {
   "cell_type": "code",
   "execution_count": 2,
   "metadata": {},
   "outputs": [
    {
     "ename": "RuntimeError",
     "evalue": "module compiled against API version 0xc but this version of numpy is 0xb",
     "output_type": "error",
     "traceback": [
      "\u001b[0;31m---------------------------------------------------------------------------\u001b[0m",
      "\u001b[0;31mRuntimeError\u001b[0m                              Traceback (most recent call last)",
      "\u001b[0;31mRuntimeError\u001b[0m: module compiled against API version 0xc but this version of numpy is 0xb"
     ]
    },
    {
     "ename": "RuntimeError",
     "evalue": "module compiled against API version 0xc but this version of numpy is 0xb",
     "output_type": "error",
     "traceback": [
      "\u001b[0;31m---------------------------------------------------------------------------\u001b[0m",
      "\u001b[0;31mRuntimeError\u001b[0m                              Traceback (most recent call last)",
      "\u001b[0;31mRuntimeError\u001b[0m: module compiled against API version 0xc but this version of numpy is 0xb"
     ]
    }
   ],
   "source": [
    "from __future__ import print_function\n",
    "import mxnet as mx\n",
    "import mxnet.ndarray as nd\n",
    "import math"
   ]
  },
  {
   "cell_type": "code",
   "execution_count": 3,
   "metadata": {},
   "outputs": [
    {
     "name": "stdout",
     "output_type": "stream",
     "text": [
      "\n",
      "[ 5.47722578]\n",
      "<NDArray 1 @cpu(0)>\n",
      "5.477225575051661\n",
      "\n",
      "[ 5.47722578]\n",
      "<NDArray 1 @cpu(0)>\n",
      "\n",
      "[[ 0.18257418  0.36514837]\n",
      " [ 0.54772252  0.73029673]]\n",
      "<NDArray 2x2 @cpu(0)>\n"
     ]
    }
   ],
   "source": [
    "# https://mxnet.apache.org/api/python/ndarray/ndarray.html?highlight=norm#mxnet.ndarray.norm\n",
    "x = [[1, 2],\n",
    "     [3, 4]]\n",
    "nd_x = nd.array(x)\n",
    "print(nd.norm(nd_x))\n",
    "# above same as\n",
    "print (math.sqrt( 1**2 + 2**2 + 3**2 + 4**2))\n",
    "\n",
    "nx_x2 = nd.array([(math.sqrt(2)/2),(math.sqrt(2)/2)]) # a^2 + b^2 = c^2 for a 90 x 45 x 45 degree triangle\n",
    "print(nd.norm(nd_x))\n",
    "\n",
    "#trying to understand is use on http://gluon.mxnet.io/chapter02_supervised-learning/perceptron.html#A-Separable-Classification-Problem\n",
    "print(nd_x / nd.norm(nd_x))"
   ]
  },
  {
   "cell_type": "code",
   "execution_count": 4,
   "metadata": {},
   "outputs": [
    {
     "name": "stdout",
     "output_type": "stream",
     "text": [
      "\n",
      "[ 1.16307867  0.48380461]\n",
      "<NDArray 2 @cpu(0)>\n",
      "(2,)\n",
      "\n",
      "[[ 0.29956347  0.15302546]]\n",
      "<NDArray 1x2 @cpu(0)>\n",
      "(1, 2)\n"
     ]
    }
   ],
   "source": [
    "#random\n",
    "dims =2\n",
    "a = nd.random_normal(shape=(dims))\n",
    "print(a)\n",
    "print(a.shape)\n",
    "b = nd.random_normal(shape=(1,2))\n",
    "print(b)\n",
    "print(b.shape)"
   ]
  },
  {
   "cell_type": "code",
   "execution_count": 8,
   "metadata": {},
   "outputs": [
    {
     "name": "stdout",
     "output_type": "stream",
     "text": [
      "\n",
      "[[ 0.73926359  0.01998767  0.03918779  0.44171092]\n",
      " [ 0.28280696  0.97958672  0.12019657  0.35944447]\n",
      " [ 0.29614019  0.48089352  0.11872771  0.68866116]\n",
      " [ 0.31798318  0.88047588  0.41426298  0.91823548]\n",
      " [ 0.0641475   0.21682213  0.6924721   0.56518888]]\n",
      "<NDArray 5x4 @cpu(0)>\n",
      "1.0\n",
      "\n",
      "[[ 1.  1.  1.  1.]\n",
      " [ 1.  1.  1.  1.]\n",
      " [ 1.  1.  1.  1.]\n",
      " [ 1.  1.  1.  1.]\n",
      " [ 1.  1.  1.  1.]]\n",
      "<NDArray 5x4 @cpu(0)>\n",
      "\n",
      "[[ 0.56660146  0.86510259  0.2653895   0.50896895]\n",
      " [ 0.52324808  0.91672295  0.0939405   0.9211576 ]\n",
      " [ 0.57594651  0.08311249  0.9292962   0.27771857]\n",
      " [ 0.31856894  0.0093567   0.66741037  0.84234208]\n",
      " [ 0.13179787  0.64717412  0.71632719  0.84138614]]\n",
      "<NDArray 5x4 @cpu(0)>\n",
      "0.5\n",
      "\n",
      "[[ 0.  0.  1.  0.]\n",
      " [ 0.  0.  1.  0.]\n",
      " [ 0.  1.  0.  1.]\n",
      " [ 1.  1.  0.  0.]\n",
      " [ 1.  0.  0.  0.]]\n",
      "<NDArray 5x4 @cpu(0)>\n",
      "\n",
      "[[ 0.28940609  0.26473016  0.18319136  0.39782074]\n",
      " [ 0.58651292  0.55282146  0.02010755  0.16494046]\n",
      " [ 0.82894003  0.36980811  0.00469548  0.14644176]\n",
      " [ 0.67781651  0.5696184   0.27000797  0.70373726]\n",
      " [ 0.73519403  0.28847644  0.96218854  0.43328807]]\n",
      "<NDArray 5x4 @cpu(0)>\n",
      "0.0\n",
      "\n",
      "[[ 0.  0.  0.  0.]\n",
      " [ 0.  0.  0.  0.]\n",
      " [ 0.  0.  0.  0.]\n",
      " [ 0.  0.  0.  0.]\n",
      " [ 0.  0.  0.  0.]]\n",
      "<NDArray 5x4 @cpu(0)>\n"
     ]
    },
    {
     "data": {
      "text/plain": [
       "\n",
       "[[ 0.  0.  0.  0.]\n",
       " [ 0.  0.  0.  0.]\n",
       " [ 0.  0.  0.  0.]\n",
       " [ 0.  0.  0.  0.]\n",
       " [ 0.  0.  0.  0.]]\n",
       "<NDArray 5x4 @cpu(0)>"
      ]
     },
     "execution_count": 8,
     "metadata": {},
     "output_type": "execute_result"
    }
   ],
   "source": [
    "def dropout(X, drop_probability):\n",
    "    keep_probability = 1 - drop_probability\n",
    "    nd_rand_uni = nd.random_uniform(0, 1.0, X.shape, ctx=X.context)\n",
    "    print(nd_rand_uni)\n",
    "    print(keep_probability)\n",
    "    mask = nd_rand_uni < keep_probability\n",
    "    print(mask)\n",
    "    #############################\n",
    "    #  Avoid division by 0 when scaling\n",
    "    #############################\n",
    "    if keep_probability > 0.0:\n",
    "        scale = (1/keep_probability)\n",
    "    else:\n",
    "        scale = 0.0\n",
    "    return mask * X * scale\n",
    "\n",
    "\n",
    "A = nd.arange(20).reshape((5,4))\n",
    "dropout(A, 0.0)\n",
    "dropout(A, 0.5)\n",
    "dropout(A, 1.0)"
   ]
  },
  {
   "cell_type": "code",
   "execution_count": null,
   "metadata": {},
   "outputs": [],
   "source": []
  }
 ],
 "metadata": {
  "kernelspec": {
   "display_name": "Python 3",
   "language": "python",
   "name": "python3"
  },
  "language_info": {
   "codemirror_mode": {
    "name": "ipython",
    "version": 3
   },
   "file_extension": ".py",
   "mimetype": "text/x-python",
   "name": "python",
   "nbconvert_exporter": "python",
   "pygments_lexer": "ipython3",
   "version": "3.6.4"
  }
 },
 "nbformat": 4,
 "nbformat_minor": 2
}
