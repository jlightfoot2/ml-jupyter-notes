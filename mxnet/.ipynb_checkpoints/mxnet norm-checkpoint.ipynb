{
 "cells": [
  {
   "cell_type": "code",
   "execution_count": 3,
   "metadata": {},
   "outputs": [],
   "source": [
    "from __future__ import print_function\n",
    "import mxnet as mx\n",
    "import mxnet.ndarray as nd\n",
    "import math"
   ]
  },
  {
   "cell_type": "code",
   "execution_count": 4,
   "metadata": {},
   "outputs": [
    {
     "name": "stdout",
     "output_type": "stream",
     "text": [
      "\n",
      "[ 5.47722578]\n",
      "<NDArray 1 @cpu(0)>\n",
      "5.477225575051661\n",
      "\n",
      "[ 5.47722578]\n",
      "<NDArray 1 @cpu(0)>\n",
      "\n",
      "[[ 0.18257418  0.36514837]\n",
      " [ 0.54772252  0.73029673]]\n",
      "<NDArray 2x2 @cpu(0)>\n"
     ]
    }
   ],
   "source": [
    "# https://mxnet.apache.org/api/python/ndarray/ndarray.html?highlight=norm#mxnet.ndarray.norm\n",
    "x = [[1, 2],\n",
    "     [3, 4]]\n",
    "nd_x = nd.array(x)\n",
    "print(nd.norm(nd_x))\n",
    "# above same as\n",
    "print (math.sqrt( 1**2 + 2**2 + 3**2 + 4**2))\n",
    "\n",
    "nx_x2 = nd.array([(math.sqrt(2)/2),(math.sqrt(2)/2)]) # a^2 + b^2 = c^2 for a 90 x 45 x 45 degree triangle\n",
    "print(nd.norm(nd_x))\n",
    "\n",
    "#trying to understand is use on http://gluon.mxnet.io/chapter02_supervised-learning/perceptron.html#A-Separable-Classification-Problem\n",
    "print(nd_x / nd.norm(nd_x))"
   ]
  },
  {
   "cell_type": "code",
   "execution_count": null,
   "metadata": {},
   "outputs": [],
   "source": []
  }
 ],
 "metadata": {
  "kernelspec": {
   "display_name": "Python 3",
   "language": "python",
   "name": "python3"
  },
  "language_info": {
   "codemirror_mode": {
    "name": "ipython",
    "version": 3
   },
   "file_extension": ".py",
   "mimetype": "text/x-python",
   "name": "python",
   "nbconvert_exporter": "python",
   "pygments_lexer": "ipython3",
   "version": "3.6.4"
  }
 },
 "nbformat": 4,
 "nbformat_minor": 2
}
