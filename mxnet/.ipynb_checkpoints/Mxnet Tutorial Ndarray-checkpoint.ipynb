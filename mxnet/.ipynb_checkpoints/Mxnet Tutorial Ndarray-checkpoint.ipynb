{
 "cells": [
  {
   "cell_type": "code",
   "execution_count": 2,
   "metadata": {},
   "outputs": [
    {
     "name": "stdout",
     "output_type": "stream",
     "text": [
      "\n",
      "[[0.0000000e+00 1.0842022e-19 0.0000000e+00 1.0842022e-19]\n",
      " [4.2038954e-45 0.0000000e+00 0.0000000e+00 0.0000000e+00]\n",
      " [0.0000000e+00 0.0000000e+00 0.0000000e+00 2.7550649e-40]]\n",
      "<NDArray 3x4 @cpu(0)>\n",
      "\n",
      "[[0. 0. 0. 0.]\n",
      " [0. 0. 0. 0.]\n",
      " [0. 0. 0. 0.]]\n",
      "<NDArray 3x4 @cpu(0)>\n",
      "\n",
      "[[1. 1. 1. 1.]\n",
      " [1. 1. 1. 1.]\n",
      " [1. 1. 1. 1.]]\n",
      "<NDArray 3x4 @cpu(0)>\n",
      "\n",
      "[[-1.3064442   0.11287736 -2.6309927  -0.10713575]\n",
      " [ 0.31348416 -0.05735848 -1.1105995  -0.5765109 ]\n",
      " [-0.22899596  0.5796072   0.8124368   1.0448428 ]]\n",
      "<NDArray 3x4 @cpu(0)>\n",
      "[[-1.3064442   0.11287736 -2.6309927  -0.10713575]\n",
      " [ 0.31348416 -0.05735848 -1.1105995  -0.5765109 ]\n",
      " [-0.22899596  0.5796072   0.8124368   1.0448428 ]]\n",
      "<class 'numpy.ndarray'>\n"
     ]
    }
   ],
   "source": [
    "# http://gluon.mxnet.io/chapter01_crashcourse/ndarray.html\n",
    "# https://mxnet.apache.org/tutorials/index.html\n",
    "import mxnet as mx\n",
    "from mxnet import nd\n",
    "mx.random.seed(1)\n",
    "# just looking at shapes\n",
    "\n",
    "\n",
    "# empty array no init\n",
    "x = nd.empty((3, 4))\n",
    "print(x)\n",
    "\n",
    "# empty but with with init\n",
    "\n",
    "x = nd.zeros((3, 4), mx.cpu(0))\n",
    "print(x)\n",
    "x = nd.ones((3, 4), mx.cpu(0))\n",
    "print(x)\n",
    "\n",
    "\n",
    "# random with normal distribution and zero mean\n",
    "y = nd.random_normal(0, 1, shape=(3, 4))\n",
    "print(y);\n",
    "\n",
    "# convert ndarray to numpy\n",
    "\n",
    "yn = y.asnumpy()\n",
    "print(yn)\n",
    "print(type(yn))\n",
    "\n"
   ]
  },
  {
   "cell_type": "code",
   "execution_count": 3,
   "metadata": {},
   "outputs": [
    {
     "name": "stdout",
     "output_type": "stream",
     "text": [
      "(3, 4)\n",
      "12\n"
     ]
    }
   ],
   "source": [
    "# get array metadata/info\n",
    "\n",
    "#shape and size\n",
    "print(y.shape)\n",
    "print(y.size)"
   ]
  },
  {
   "cell_type": "code",
   "execution_count": 4,
   "metadata": {},
   "outputs": [
    {
     "name": "stdout",
     "output_type": "stream",
     "text": [
      "\n",
      "[[1. 1. 1. 1.]\n",
      " [1. 1. 1. 1.]\n",
      " [1. 1. 1. 1.]]\n",
      "<NDArray 3x4 @cpu(0)>\n",
      "\n",
      "[[-1.3064442   0.11287736 -2.6309927  -0.10713575]\n",
      " [ 0.31348416 -0.05735848 -1.1105995  -0.5765109 ]\n",
      " [-0.22899596  0.5796072   0.8124368   1.0448428 ]]\n",
      "<NDArray 3x4 @cpu(0)>\n",
      "\n",
      "[[-0.30644417  1.1128774  -1.6309927   0.8928642 ]\n",
      " [ 1.3134842   0.9426415  -0.11059952  0.4234891 ]\n",
      " [ 0.771004    1.5796072   1.8124368   2.0448427 ]]\n",
      "<NDArray 3x4 @cpu(0)>\n",
      "\n",
      "[[-1.3064442   0.11287736 -2.6309927  -0.10713575]\n",
      " [ 0.31348416 -0.05735848 -1.1105995  -0.5765109 ]\n",
      " [-0.22899596  0.5796072   0.8124368   1.0448428 ]]\n",
      "<NDArray 3x4 @cpu(0)>\n",
      "\n",
      "[[0.2707812  1.1194947  0.07200695 0.8984037 ]\n",
      " [1.3681839  0.94425553 0.32936144 0.5618553 ]\n",
      " [0.7953317  1.785337   2.2533925  2.8429518 ]]\n",
      "<NDArray 3x4 @cpu(0)>\n",
      "\n",
      "[[-3.9316952 -1.4309847  2.2078907]\n",
      " [-3.9316952 -1.4309847  2.2078907]\n",
      " [-3.9316952 -1.4309847  2.207891 ]]\n",
      "<NDArray 3x3 @cpu(0)>\n"
     ]
    }
   ],
   "source": [
    "# ndarray Operations\n",
    "print(x)\n",
    "print(y)\n",
    "#mult and addition\n",
    "print(x + y) \n",
    "print(x*y) # element-wise multiplication\n",
    "# exponentiation?\n",
    "\n",
    "print(nd.exp(y))\n",
    "\n",
    "# dot product\n",
    "\n",
    "print(nd.dot(x, y.T)) #y is transposed, See https://en.wikipedia.org/wiki/Transpose"
   ]
  },
  {
   "cell_type": "code",
   "execution_count": 7,
   "metadata": {},
   "outputs": [
    {
     "name": "stdout",
     "output_type": "stream",
     "text": [
      "id(y): 4458715120\n",
      "id(y): 4458683976\n",
      "id(y): 4458683976\n",
      "id(y): 4458683976\n"
     ]
    },
    {
     "data": {
      "text/plain": [
       "\n",
       "[[1.6935558  3.1128774  0.36900735 2.8928642 ]\n",
       " [3.3134842  2.9426415  1.8894005  2.423489  ]\n",
       " [2.771004   3.5796072  3.8124368  4.0448427 ]]\n",
       "<NDArray 3x4 @cpu(0)>"
      ]
     },
     "execution_count": 7,
     "metadata": {},
     "output_type": "execute_result"
    }
   ],
   "source": [
    "# in-place operations\n",
    "\n",
    "\n",
    "#show how memory address changes\n",
    "\n",
    "print('id(y):', id(y))\n",
    "y = y + x\n",
    "print('id(y):', id(y))\n",
    "\n",
    "# use [:] syntax to prevent new address\n",
    "\n",
    "print('id(y):', id(y))\n",
    "y[:] = x + y\n",
    "print('id(y):', id(y))\n",
    "\n",
    "# event better with memory\n",
    "\n",
    "nd.elemwise_add(x, y, out=y)"
   ]
  },
  {
   "cell_type": "code",
   "execution_count": 8,
   "metadata": {},
   "outputs": [
    {
     "name": "stdout",
     "output_type": "stream",
     "text": [
      "\n",
      "[[1. 1. 1. 1.]\n",
      " [1. 1. 1. 1.]\n",
      " [1. 1. 1. 1.]]\n",
      "<NDArray 3x4 @cpu(0)>\n",
      "\n",
      "[[1. 1. 1. 1.]\n",
      " [1. 1. 1. 1.]]\n",
      "<NDArray 2x4 @cpu(0)>\n",
      "\n",
      "[[1. 1. 1. 1.]\n",
      " [1. 1. 1. 1.]\n",
      " [1. 1. 1. 1.]]\n",
      "<NDArray 3x4 @cpu(0)>\n",
      "\n",
      "[[1. 1. 1. 1.]\n",
      " [1. 1. 9. 1.]\n",
      " [1. 1. 1. 1.]]\n",
      "<NDArray 3x4 @cpu(0)>\n"
     ]
    }
   ],
   "source": [
    "# Slicing\n",
    "\n",
    "print(x)\n",
    "print(x[1:3])\n",
    "print(x)\n",
    "x[1,2] = 9.0\n",
    "print(x)"
   ]
  },
  {
   "cell_type": "code",
   "execution_count": 9,
   "metadata": {},
   "outputs": [
    {
     "name": "stdout",
     "output_type": "stream",
     "text": [
      "x =  \n",
      "[[1. 1. 1.]\n",
      " [1. 1. 1.]\n",
      " [1. 1. 1.]]\n",
      "<NDArray 3x3 @cpu(0)>\n",
      "y =  \n",
      "[0. 1. 2.]\n",
      "<NDArray 3 @cpu(0)>\n",
      "x + y =  \n",
      "[[1. 2. 3.]\n",
      " [1. 2. 3.]\n",
      " [1. 2. 3.]]\n",
      "<NDArray 3x3 @cpu(0)>\n",
      "y =  \n",
      "[[0.]\n",
      " [1.]\n",
      " [2.]]\n",
      "<NDArray 3x1 @cpu(0)>\n",
      "x + y =  \n",
      "[[1. 1. 1.]\n",
      " [2. 2. 2.]\n",
      " [3. 3. 3.]]\n",
      "<NDArray 3x3 @cpu(0)>\n"
     ]
    }
   ],
   "source": [
    "# Broadcasting\n",
    "# see http://gluon.mxnet.io/chapter01_crashcourse/ndarray.html#Broadcasting\n",
    "\n",
    "x = nd.ones(shape=(3,3))\n",
    "print('x = ', x)\n",
    "y = nd.arange(3)\n",
    "print('y = ', y)\n",
    "print('x + y = ', x + y)\n",
    "\n",
    "# Broadcast prefers to duplicate along the left most axis\n",
    "# axis definition https://docs.scipy.org/doc/numpy-1.13.0/glossary.html\n",
    "# http://gluon.mxnet.io/chapter01_crashcourse/linear-algebra.html#Length,-dimensionality,-and,-shape\n",
    "\n",
    "y = y.reshape((3,1))\n",
    "print('y = ', y)\n",
    "print('x + y = ', x+y)"
   ]
  },
  {
   "cell_type": "code",
   "execution_count": 18,
   "metadata": {},
   "outputs": [
    {
     "name": "stdout",
     "output_type": "stream",
     "text": [
      "\n",
      "[[1. 1. 1.]\n",
      " [1. 1. 1.]\n",
      " [1. 1. 1.]]\n",
      "<NDArray 3x3 @cpu(0)>\n",
      "\n",
      "[[1. 1. 1.]\n",
      " [1. 1. 1.]\n",
      " [1. 1. 1.]]\n",
      "<NDArray 3x3 @cpu(0)>\n",
      "cpu(0)\n",
      "cpu(0)\n"
     ]
    }
   ],
   "source": [
    "# context\n",
    "#http://gluon.mxnet.io/chapter01_crashcourse/ndarray.html#Managing-context\n",
    "\n",
    "# run on first gpu\n",
    "# z = nd.ones(shape=(3,3), ctx=mx.gpu(0)) #doesn't work on osx without cuda and built from source\n",
    "# run on first cpu\n",
    "z = nd.ones(shape=(3,3), ctx=mx.cpu(0)) \n",
    "print(z)\n",
    "\n",
    "# copy var and its context\n",
    "\n",
    "x_cpu = x.copyto(mx.cpu(0))\n",
    "print(x_cpu)\n",
    "\n",
    "# show context\n",
    "\n",
    "print(x_cpu.context)\n",
    "print(z.context)\n",
    "\n",
    "#!!! In order to perform an operation on two ndarrays x1 and x2, we need them both to live on the same context"
   ]
  },
  {
   "cell_type": "code",
   "execution_count": null,
   "metadata": {},
   "outputs": [],
   "source": []
  }
 ],
 "metadata": {
  "kernelspec": {
   "display_name": "Python 3",
   "language": "python",
   "name": "python3"
  },
  "language_info": {
   "codemirror_mode": {
    "name": "ipython",
    "version": 3
   },
   "file_extension": ".py",
   "mimetype": "text/x-python",
   "name": "python",
   "nbconvert_exporter": "python",
   "pygments_lexer": "ipython3",
   "version": "3.6.4"
  }
 },
 "nbformat": 4,
 "nbformat_minor": 2
}
