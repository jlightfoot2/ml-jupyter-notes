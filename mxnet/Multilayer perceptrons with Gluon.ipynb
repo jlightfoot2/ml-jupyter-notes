{
 "cells": [
  {
   "cell_type": "code",
   "execution_count": 2,
   "metadata": {},
   "outputs": [],
   "source": [
    "# http://gluon.mxnet.io/chapter03_deep-neural-networks/mlp-gluon.html#Multilayer-perceptrons-in-gluon\n",
    "from __future__ import print_function\n",
    "import numpy as np\n",
    "import mxnet as mx\n",
    "from mxnet import nd, autograd, gluon"
   ]
  },
  {
   "cell_type": "code",
   "execution_count": 3,
   "metadata": {},
   "outputs": [],
   "source": [
    "data_ctx = mx.cpu()\n",
    "model_ctx = mx.cpu()\n",
    "# model_ctx = mx.gpu(0)\n",
    "batch_size = 64\n",
    "num_inputs = 784\n",
    "num_outputs = 10\n",
    "num_examples = 60000\n",
    "def transform(data, label):\n",
    "    return data.astype(np.float32)/255, label.astype(np.float32)\n",
    "train_data = mx.gluon.data.DataLoader(mx.gluon.data.vision.MNIST(train=True, transform=transform),\n",
    "                                      batch_size, shuffle=True)\n",
    "test_data = mx.gluon.data.DataLoader(mx.gluon.data.vision.MNIST(train=False, transform=transform),\n",
    "                                     batch_size, shuffle=False)"
   ]
  },
  {
   "cell_type": "code",
   "execution_count": 4,
   "metadata": {},
   "outputs": [],
   "source": [
    "# make a block to handle network\n",
    "# http://gluon.mxnet.io/chapter03_deep-neural-networks/mlp-gluon.html#Define-the-model-with-gluon.Block\n",
    "class MLP(gluon.Block):\n",
    "    def __init__(self, **kwargs):\n",
    "        super(MLP, self).__init__(**kwargs)\n",
    "        with self.name_scope():\n",
    "            self.dense0 = gluon.nn.Dense(64, activation=\"relu\")\n",
    "            self.dense1 = gluon.nn.Dense(64, activation=\"relu\")\n",
    "            self.dense2 = gluon.nn.Dense(10)\n",
    "\n",
    "    def forward(self, x):\n",
    "        x = self.dense0(x)\n",
    "        print(\"Hidden Representation 1: %s\" % x)\n",
    "        x = self.dense1(x)\n",
    "        print(\"Hidden Representation 2: %s\" % x)\n",
    "        x = self.dense2(x)\n",
    "        print(\"Network output: %s\" % x)\n",
    "        return x"
   ]
  },
  {
   "cell_type": "code",
   "execution_count": 5,
   "metadata": {},
   "outputs": [],
   "source": [
    "# create network\n",
    "net = MLP()\n",
    "net.collect_params().initialize(mx.init.Normal(sigma=.01), ctx=model_ctx)"
   ]
  },
  {
   "cell_type": "code",
   "execution_count": 6,
   "metadata": {},
   "outputs": [
    {
     "name": "stdout",
     "output_type": "stream",
     "text": [
      "Hidden Representation 1: \n",
      "[[ 0.          0.20633666  0.          0.19814792  0.06757915  0.\n",
      "   0.04581137  0.          0.          0.          0.          0.00434886\n",
      "   0.          0.          0.27496645  0.          0.0267767   0.          0.\n",
      "   0.42491484  0.          0.          0.          0.          0.26656955\n",
      "   0.14948606  0.          0.          0.          0.          0.38377756\n",
      "   0.22333373  0.          0.          0.09558368  0.          0.03616817\n",
      "   0.04499477  0.18303645  0.02092152  0.45617974  0.          0.\n",
      "   0.24218608  0.05685914  0.          0.          0.          0.646303\n",
      "   0.39750275  0.5537833   0.03892392  0.08774536  0.11992359  0.          0.\n",
      "   0.08294237  0.          0.21569288  0.00346045  0.29297248  0.58968043\n",
      "   0.67034745  0.50001067]]\n",
      "<NDArray 1x64 @cpu(0)>\n",
      "Hidden Representation 2: \n",
      "[[ 0.01581744  0.02598379  0.01134174  0.          0.00141659  0.          0.\n",
      "   0.00834727  0.          0.0166119   0.00969328  0.01600608  0.00766216\n",
      "   0.00607042  0.          0.03669692  0.02558209  0.          0.00698622\n",
      "   0.          0.          0.          0.02138642  0.          0.01515518\n",
      "   0.          0.          0.02025083  0.02919367  0.03281019  0.\n",
      "   0.00133085  0.          0.          0.          0.          0.01608372\n",
      "   0.03406352  0.          0.          0.          0.01599361  0.          0.\n",
      "   0.          0.          0.01741216  0.          0.          0.\n",
      "   0.01394516  0.          0.          0.          0.          0.\n",
      "   0.00085074  0.02734157  0.0294573   0.00285639  0.01513049  0.\n",
      "   0.00792741  0.01245396]]\n",
      "<NDArray 1x64 @cpu(0)>\n",
      "Network output: \n",
      "[[ -5.26424963e-04  -4.84945136e-04  -9.10169765e-05  -1.07006030e-03\n",
      "    9.53403884e-04   1.29312021e-03  -3.88619723e-04  -6.46191649e-04\n",
      "    1.36464485e-04  -1.71538291e-03]]\n",
      "<NDArray 1x10 @cpu(0)>\n"
     ]
    },
    {
     "data": {
      "text/plain": [
       "\n",
       "[[ -5.26424963e-04  -4.84945136e-04  -9.10169765e-05  -1.07006030e-03\n",
       "    9.53403884e-04   1.29312021e-03  -3.88619723e-04  -6.46191649e-04\n",
       "    1.36464485e-04  -1.71538291e-03]]\n",
       "<NDArray 1x10 @cpu(0)>"
      ]
     },
     "execution_count": 6,
     "metadata": {},
     "output_type": "execute_result"
    }
   ],
   "source": [
    "# send gibberish through network\n",
    "data = nd.ones((1,784))\n",
    "net(data.as_in_context(model_ctx))\n"
   ]
  },
  {
   "cell_type": "code",
   "execution_count": 7,
   "metadata": {},
   "outputs": [],
   "source": [
    "# Faster modeling with gluon.nn.Sequential\n",
    "# http://gluon.mxnet.io/chapter03_deep-neural-networks/mlp-gluon.html#Faster-modeling-with-gluon.nn.Sequential\n",
    "\n",
    "num_hidden = 64\n",
    "net = gluon.nn.Sequential()\n",
    "with net.name_scope():\n",
    "    net.add(gluon.nn.Dense(num_hidden, activation=\"relu\"))\n",
    "    net.add(gluon.nn.Dense(num_hidden, activation=\"relu\"))\n",
    "    net.add(gluon.nn.Dense(num_outputs))"
   ]
  },
  {
   "cell_type": "code",
   "execution_count": 11,
   "metadata": {},
   "outputs": [],
   "source": [
    "# register parameter initializer\n",
    "net.collect_params().initialize(mx.init.Normal(sigma=.1), ctx=model_ctx)\n",
    "\n",
    "#Loss\n",
    "softmax_cross_entropy = gluon.loss.SoftmaxCrossEntropyLoss()\n",
    "#Optimizer\n",
    "trainer = gluon.Trainer(net.collect_params(), 'sgd', {'learning_rate': .01})"
   ]
  },
  {
   "cell_type": "code",
   "execution_count": 12,
   "metadata": {},
   "outputs": [],
   "source": [
    "# Evaluator\n",
    "def evaluate_accuracy(data_iterator, net):\n",
    "    acc = mx.metric.Accuracy()\n",
    "    for i, (data, label) in enumerate(data_iterator):\n",
    "        data = data.as_in_context(model_ctx).reshape((-1, 784))\n",
    "        label = label.as_in_context(model_ctx)\n",
    "        output = net(data)\n",
    "        predictions = nd.argmax(output, axis=1)\n",
    "        acc.update(preds=predictions, labels=label)\n",
    "    return acc.get()[1]"
   ]
  },
  {
   "cell_type": "code",
   "execution_count": 13,
   "metadata": {},
   "outputs": [
    {
     "name": "stdout",
     "output_type": "stream",
     "text": [
      "Epoch 0. Loss: 1.29614894327, Train_acc 0.829833333333, Test_acc 0.8355\n",
      "Epoch 1. Loss: 0.485520681953, Train_acc 0.879666666667, Test_acc 0.8867\n",
      "Epoch 2. Loss: 0.382655344407, Train_acc 0.898066666667, Test_acc 0.9043\n",
      "Epoch 3. Loss: 0.336357296848, Train_acc 0.90765, Test_acc 0.913\n",
      "Epoch 4. Loss: 0.305891218535, Train_acc 0.914966666667, Test_acc 0.9198\n",
      "Epoch 5. Loss: 0.282849863744, Train_acc 0.9218, Test_acc 0.9248\n",
      "Epoch 6. Loss: 0.263587269719, Train_acc 0.92745, Test_acc 0.9305\n",
      "Epoch 7. Loss: 0.247260904853, Train_acc 0.931666666667, Test_acc 0.935\n",
      "Epoch 8. Loss: 0.233039602081, Train_acc 0.934766666667, Test_acc 0.9358\n",
      "Epoch 9. Loss: 0.220281624333, Train_acc 0.939316666667, Test_acc 0.9406\n"
     ]
    }
   ],
   "source": [
    "epochs = 10\n",
    "smoothing_constant = .01\n",
    "\n",
    "for e in range(epochs):\n",
    "    cumulative_loss = 0\n",
    "    for i, (data, label) in enumerate(train_data):\n",
    "        data = data.as_in_context(model_ctx).reshape((-1, 784))\n",
    "        label = label.as_in_context(model_ctx)\n",
    "        with autograd.record():\n",
    "            output = net(data)\n",
    "            loss = softmax_cross_entropy(output, label)\n",
    "        loss.backward()\n",
    "        trainer.step(data.shape[0])\n",
    "        cumulative_loss += nd.sum(loss).asscalar()\n",
    "\n",
    "\n",
    "    test_accuracy = evaluate_accuracy(test_data, net)\n",
    "    train_accuracy = evaluate_accuracy(train_data, net)\n",
    "    print(\"Epoch %s. Loss: %s, Train_acc %s, Test_acc %s\" %\n",
    "          (e, cumulative_loss/num_examples, train_accuracy, test_accuracy))"
   ]
  },
  {
   "cell_type": "code",
   "execution_count": null,
   "metadata": {},
   "outputs": [],
   "source": []
  }
 ],
 "metadata": {
  "kernelspec": {
   "display_name": "Python 3",
   "language": "python",
   "name": "python3"
  },
  "language_info": {
   "codemirror_mode": {
    "name": "ipython",
    "version": 3
   },
   "file_extension": ".py",
   "mimetype": "text/x-python",
   "name": "python",
   "nbconvert_exporter": "python",
   "pygments_lexer": "ipython3",
   "version": "3.6.4"
  }
 },
 "nbformat": 4,
 "nbformat_minor": 2
}
