{
 "cells": [
  {
   "cell_type": "code",
   "execution_count": 2,
   "metadata": {},
   "outputs": [
    {
     "name": "stderr",
     "output_type": "stream",
     "text": [
      "/usr/local/lib/python3.6/site-packages/mxnet/optimizer.py:136: UserWarning: WARNING: New optimizer mxnet.optimizer.NAG is overriding existing optimizer mxnet.optimizer.NAG\n",
      "  Optimizer.opt_registry[name].__name__))\n"
     ]
    }
   ],
   "source": [
    "# http://gluon.mxnet.io/chapter03_deep-neural-networks/mlp-gluon.html#Multilayer-perceptrons-in-gluon\n",
    "from __future__ import print_function\n",
    "import numpy as np\n",
    "import mxnet as mx\n",
    "from mxnet import nd, autograd, gluon"
   ]
  },
  {
   "cell_type": "code",
   "execution_count": 3,
   "metadata": {},
   "outputs": [],
   "source": [
    "data_ctx = mx.cpu()\n",
    "model_ctx = mx.cpu()\n",
    "# model_ctx = mx.gpu(0)\n",
    "batch_size = 64\n",
    "num_inputs = 784\n",
    "num_outputs = 10\n",
    "num_examples = 60000\n",
    "def transform(data, label):\n",
    "    return data.astype(np.float32)/255, label.astype(np.float32)\n",
    "train_data = mx.gluon.data.DataLoader(mx.gluon.data.vision.MNIST(train=True, transform=transform),\n",
    "                                      batch_size, shuffle=True)\n",
    "test_data = mx.gluon.data.DataLoader(mx.gluon.data.vision.MNIST(train=False, transform=transform),\n",
    "                                     batch_size, shuffle=False)"
   ]
  },
  {
   "cell_type": "code",
   "execution_count": 7,
   "metadata": {},
   "outputs": [],
   "source": [
    "# make a block to handle network\n",
    "# http://gluon.mxnet.io/chapter03_deep-neural-networks/mlp-gluon.html#Define-the-model-with-gluon.Block\n",
    "class MLP(gluon.Block):\n",
    "    def __init__(self, **kwargs):\n",
    "        super(MLP, self).__init__(**kwargs)\n",
    "        with self.name_scope():\n",
    "            self.dense0 = gluon.nn.Dense(64, activation=\"relu\")\n",
    "            self.dense1 = gluon.nn.Dense(64, activation=\"relu\")\n",
    "            self.dense2 = gluon.nn.Dense(10)\n",
    "\n",
    "    def forward(self, x):\n",
    "        x = self.dense0(x)\n",
    "        print(\"Hidden Representation 1: %s\" % x)\n",
    "        x = self.dense1(x)\n",
    "        print(\"Hidden Representation 2: %s\" % x)\n",
    "        x = self.dense2(x)\n",
    "        print(\"Network output: %s\" % x)\n",
    "        return x"
   ]
  },
  {
   "cell_type": "code",
   "execution_count": 8,
   "metadata": {},
   "outputs": [],
   "source": [
    "# create network\n",
    "net = MLP()\n",
    "net.collect_params().initialize(mx.init.Normal(sigma=.01), ctx=model_ctx)"
   ]
  },
  {
   "cell_type": "code",
   "execution_count": 9,
   "metadata": {},
   "outputs": [
    {
     "name": "stdout",
     "output_type": "stream",
     "text": [
      "Hidden Representation 1: \n",
      "[[ 0.          0.          0.0257028   0.41763657  0.          0.          0.\n",
      "   0.          0.          0.03712554  0.16054311  0.35507885  0.\n",
      "   0.12578693  0.          0.          0.          0.30374652  0.2925671\n",
      "   0.35357702  0.          0.07809133  0.21969812  0.21779835  0.\n",
      "   0.34579116  0.13206208  0.01624629  0.27534342  0.22952282  0.22022063\n",
      "   0.          0.00258672  0.0639514   0.68015653  0.          0.          0.\n",
      "   0.16524595  0.18695298  0.25243062  0.01728731  0.0647173   0.          0.\n",
      "   0.25521508  0.          0.          0.03300405  0.33107036  0.64537466\n",
      "   0.04547647  0.          0.          0.          0.1954248   0.02424751\n",
      "   0.          0.          0.04300816  0.16542056  0.13203511  0.          0.        ]]\n",
      "<NDArray 1x64 @cpu(0)>\n",
      "Hidden Representation 2: \n",
      "[[  0.00000000e+00   0.00000000e+00   4.84575331e-03   0.00000000e+00\n",
      "    2.49755625e-02   0.00000000e+00   9.23847593e-03   1.18465200e-02\n",
      "    0.00000000e+00   1.50872627e-02   0.00000000e+00   1.34272072e-02\n",
      "    1.60157643e-02   0.00000000e+00   0.00000000e+00   0.00000000e+00\n",
      "    0.00000000e+00   0.00000000e+00   2.71624122e-02   4.19821590e-05\n",
      "    0.00000000e+00   1.89468097e-02   3.05789616e-03   0.00000000e+00\n",
      "    0.00000000e+00   2.77549550e-02   7.56423455e-04   0.00000000e+00\n",
      "    0.00000000e+00   1.97578315e-02   1.76706947e-02   0.00000000e+00\n",
      "    4.06699628e-03   1.02655757e-02   7.50058377e-03   1.55558866e-02\n",
      "    0.00000000e+00   0.00000000e+00   0.00000000e+00   2.81560812e-02\n",
      "    0.00000000e+00   0.00000000e+00   2.08071992e-02   0.00000000e+00\n",
      "    0.00000000e+00   0.00000000e+00   5.26530668e-04   0.00000000e+00\n",
      "    0.00000000e+00   3.66710164e-02   1.68865174e-02   0.00000000e+00\n",
      "    0.00000000e+00   0.00000000e+00   0.00000000e+00   1.50891393e-02\n",
      "    1.06385862e-02   9.01553221e-03   1.86272338e-02   1.40412236e-02\n",
      "    0.00000000e+00   0.00000000e+00   0.00000000e+00   1.25551578e-02]]\n",
      "<NDArray 1x64 @cpu(0)>\n",
      "Network output: \n",
      "[[ -1.17857940e-03   1.90145045e-04   8.11181497e-04  -3.82558472e-04\n",
      "    4.79567214e-04  -1.27192587e-04   3.38522077e-05  -2.32845996e-04\n",
      "    7.18050636e-04   1.17539358e-03]]\n",
      "<NDArray 1x10 @cpu(0)>\n"
     ]
    },
    {
     "data": {
      "text/plain": [
       "\n",
       "[[ -1.17857940e-03   1.90145045e-04   8.11181497e-04  -3.82558472e-04\n",
       "    4.79567214e-04  -1.27192587e-04   3.38522077e-05  -2.32845996e-04\n",
       "    7.18050636e-04   1.17539358e-03]]\n",
       "<NDArray 1x10 @cpu(0)>"
      ]
     },
     "execution_count": 9,
     "metadata": {},
     "output_type": "execute_result"
    }
   ],
   "source": [
    "# send gibberish through network\n",
    "data = nd.ones((1,784))\n",
    "net(data.as_in_context(model_ctx))\n"
   ]
  },
  {
   "cell_type": "code",
   "execution_count": 10,
   "metadata": {},
   "outputs": [],
   "source": [
    "# Faster modeling with gluon.nn.Sequential\n",
    "# http://gluon.mxnet.io/chapter03_deep-neural-networks/mlp-gluon.html#Faster-modeling-with-gluon.nn.Sequential\n",
    "\n",
    "num_hidden = 64\n",
    "net = gluon.nn.Sequential()\n",
    "with net.name_scope():\n",
    "    net.add(gluon.nn.Dense(num_hidden, activation=\"relu\"))\n",
    "    net.add(gluon.nn.Dense(num_hidden, activation=\"relu\"))\n",
    "    net.add(gluon.nn.Dense(num_outputs))"
   ]
  },
  {
   "cell_type": "code",
   "execution_count": 11,
   "metadata": {},
   "outputs": [],
   "source": [
    "# register parameter initializer\n",
    "net.collect_params().initialize(mx.init.Normal(sigma=.1), ctx=model_ctx)\n",
    "\n",
    "#Loss\n",
    "softmax_cross_entropy = gluon.loss.SoftmaxCrossEntropyLoss()\n",
    "#Optimizer\n",
    "trainer = gluon.Trainer(net.collect_params(), 'sgd', {'learning_rate': .01})"
   ]
  },
  {
   "cell_type": "code",
   "execution_count": 12,
   "metadata": {},
   "outputs": [],
   "source": [
    "# Evaluator\n",
    "def evaluate_accuracy(data_iterator, net):\n",
    "    acc = mx.metric.Accuracy()\n",
    "    for i, (data, label) in enumerate(data_iterator):\n",
    "        data = data.as_in_context(model_ctx).reshape((-1, 784))\n",
    "        label = label.as_in_context(model_ctx)\n",
    "        output = net(data)\n",
    "        predictions = nd.argmax(output, axis=1)\n",
    "        acc.update(preds=predictions, labels=label)\n",
    "    return acc.get()[1]"
   ]
  },
  {
   "cell_type": "code",
   "execution_count": 13,
   "metadata": {},
   "outputs": [
    {
     "name": "stdout",
     "output_type": "stream",
     "text": [
      "Epoch 0. Loss: 1.29614894327, Train_acc 0.829833333333, Test_acc 0.8355\n",
      "Epoch 1. Loss: 0.485520681953, Train_acc 0.879666666667, Test_acc 0.8867\n",
      "Epoch 2. Loss: 0.382655344407, Train_acc 0.898066666667, Test_acc 0.9043\n",
      "Epoch 3. Loss: 0.336357296848, Train_acc 0.90765, Test_acc 0.913\n",
      "Epoch 4. Loss: 0.305891218535, Train_acc 0.914966666667, Test_acc 0.9198\n",
      "Epoch 5. Loss: 0.282849863744, Train_acc 0.9218, Test_acc 0.9248\n",
      "Epoch 6. Loss: 0.263587269719, Train_acc 0.92745, Test_acc 0.9305\n",
      "Epoch 7. Loss: 0.247260904853, Train_acc 0.931666666667, Test_acc 0.935\n",
      "Epoch 8. Loss: 0.233039602081, Train_acc 0.934766666667, Test_acc 0.9358\n",
      "Epoch 9. Loss: 0.220281624333, Train_acc 0.939316666667, Test_acc 0.9406\n"
     ]
    }
   ],
   "source": [
    "epochs = 10\n",
    "smoothing_constant = .01\n",
    "\n",
    "for e in range(epochs):\n",
    "    cumulative_loss = 0\n",
    "    for i, (data, label) in enumerate(train_data):\n",
    "        data = data.as_in_context(model_ctx).reshape((-1, 784))\n",
    "        label = label.as_in_context(model_ctx)\n",
    "        with autograd.record():\n",
    "            output = net(data)\n",
    "            loss = softmax_cross_entropy(output, label)\n",
    "        loss.backward()\n",
    "        trainer.step(data.shape[0])\n",
    "        cumulative_loss += nd.sum(loss).asscalar()\n",
    "\n",
    "\n",
    "    test_accuracy = evaluate_accuracy(test_data, net)\n",
    "    train_accuracy = evaluate_accuracy(train_data, net)\n",
    "    print(\"Epoch %s. Loss: %s, Train_acc %s, Test_acc %s\" %\n",
    "          (e, cumulative_loss/num_examples, train_accuracy, test_accuracy))"
   ]
  },
  {
   "cell_type": "code",
   "execution_count": null,
   "metadata": {},
   "outputs": [],
   "source": []
  }
 ],
 "metadata": {
  "kernelspec": {
   "display_name": "Python 3",
   "language": "python",
   "name": "python3"
  },
  "language_info": {
   "codemirror_mode": {
    "name": "ipython",
    "version": 3
   },
   "file_extension": ".py",
   "mimetype": "text/x-python",
   "name": "python",
   "nbconvert_exporter": "python",
   "pygments_lexer": "ipython3",
   "version": "3.6.4"
  }
 },
 "nbformat": 4,
 "nbformat_minor": 2
}
