{
 "cells": [
  {
   "cell_type": "code",
   "execution_count": 3,
   "metadata": {
    "collapsed": true
   },
   "outputs": [],
   "source": [
    "import numpy as np\n",
    "import tensorflow as tf\n"
   ]
  },
  {
   "cell_type": "code",
   "execution_count": 4,
   "metadata": {},
   "outputs": [],
   "source": [
    "a = (np.random.rand(6).astype(np.float32)*10).round()"
   ]
  },
  {
   "cell_type": "code",
   "execution_count": 5,
   "metadata": {},
   "outputs": [
    {
     "name": "stdout",
     "output_type": "stream",
     "text": [
      "[ 1.  4.  3.  4.  1.  4.]\n"
     ]
    }
   ],
   "source": [
    "print(a)"
   ]
  },
  {
   "cell_type": "code",
   "execution_count": 6,
   "metadata": {},
   "outputs": [
    {
     "name": "stdout",
     "output_type": "stream",
     "text": [
      "[[1 4 3]\n",
      " [4 1 4]]\n"
     ]
    }
   ],
   "source": [
    "b = a.reshape(2, 3).astype(np.int32)\n",
    "print(b)"
   ]
  },
  {
   "cell_type": "code",
   "execution_count": 7,
   "metadata": {},
   "outputs": [
    {
     "name": "stdout",
     "output_type": "stream",
     "text": [
      "[[1 4 3]\n",
      " [4 1 4]]\n",
      "(2, 3)\n",
      "[ 2.5  2.5  3.5]\n",
      "[ 2.66666675  3.        ]\n",
      "(3,)\n",
      "(2,)\n"
     ]
    }
   ],
   "source": [
    "#show how reduce mean collapses the targeted index\n",
    "br = tf.reduce_mean(b.astype(np.float32),reduction_indices=[0])\n",
    "br2 = tf.reduce_mean(b.astype(np.float32),reduction_indices=[1])\n",
    "print(b)\n",
    "print(b.shape)\n",
    "with tf.Session() as sess: #automatically closes session up leaving block\n",
    "  result = sess.run([br,br2])\n",
    "  print(result[0])\n",
    "  print(result[1])\n",
    "  print(result[0].shape) #br shape\n",
    "  print(result[1].shape) #br2 shape\n",
    "# explicitly close session with sess.close()"
   ]
  },
  {
   "cell_type": "code",
   "execution_count": 8,
   "metadata": {},
   "outputs": [
    {
     "name": "stdout",
     "output_type": "stream",
     "text": [
      "Tensor(\"ones:0\", shape=(3, 25), dtype=float32)\n",
      "Tensor(\"ones_1:0\", shape=(25, 5), dtype=float32)\n",
      "Tensor(\"ones_2:0\", shape=(5,), dtype=float32)\n",
      "[[ 1.  1.  1.  1.  1.  1.  1.  1.  1.  1.  1.  1.  1.  1.  1.  1.  1.  1.\n",
      "   1.  1.  1.  1.  1.  1.  1.]\n",
      " [ 1.  1.  1.  1.  1.  1.  1.  1.  1.  1.  1.  1.  1.  1.  1.  1.  1.  1.\n",
      "   1.  1.  1.  1.  1.  1.  1.]\n",
      " [ 1.  1.  1.  1.  1.  1.  1.  1.  1.  1.  1.  1.  1.  1.  1.  1.  1.  1.\n",
      "   1.  1.  1.  1.  1.  1.  1.]]\n",
      "(3, 25)\n",
      "\n",
      "[[ 1.  1.  1.  1.  1.]\n",
      " [ 1.  1.  1.  1.  1.]\n",
      " [ 1.  1.  1.  1.  1.]\n",
      " [ 1.  1.  1.  1.  1.]\n",
      " [ 1.  1.  1.  1.  1.]\n",
      " [ 1.  1.  1.  1.  1.]\n",
      " [ 1.  1.  1.  1.  1.]\n",
      " [ 1.  1.  1.  1.  1.]\n",
      " [ 1.  1.  1.  1.  1.]\n",
      " [ 1.  1.  1.  1.  1.]\n",
      " [ 1.  1.  1.  1.  1.]\n",
      " [ 1.  1.  1.  1.  1.]\n",
      " [ 1.  1.  1.  1.  1.]\n",
      " [ 1.  1.  1.  1.  1.]\n",
      " [ 1.  1.  1.  1.  1.]\n",
      " [ 1.  1.  1.  1.  1.]\n",
      " [ 1.  1.  1.  1.  1.]\n",
      " [ 1.  1.  1.  1.  1.]\n",
      " [ 1.  1.  1.  1.  1.]\n",
      " [ 1.  1.  1.  1.  1.]\n",
      " [ 1.  1.  1.  1.  1.]\n",
      " [ 1.  1.  1.  1.  1.]\n",
      " [ 1.  1.  1.  1.  1.]\n",
      " [ 1.  1.  1.  1.  1.]\n",
      " [ 1.  1.  1.  1.  1.]]\n",
      "(25, 5)\n",
      "\n",
      "[ 1.  1.  1.  1.  1.]\n",
      "(5,)\n",
      "\n",
      "[[ 25.  25.  25.  25.  25.]\n",
      " [ 25.  25.  25.  25.  25.]\n",
      " [ 25.  25.  25.  25.  25.]]\n",
      "(3, 5)\n",
      "\n",
      "[[ 26.  26.  26.  26.  26.]\n",
      " [ 26.  26.  26.  26.  26.]\n",
      " [ 26.  26.  26.  26.  26.]]\n",
      "(3, 5)\n"
     ]
    }
   ],
   "source": [
    "# just looking at some Variable features including shapes.\n",
    "x = tf.ones([3, 25])\n",
    "W = tf.ones([25, 5])\n",
    "b = tf.ones([5])\n",
    "xW = tf.matmul(x,W); #dot product aka \"matrix multiply\"\n",
    "xWplusb = xW+b\n",
    "print(x)\n",
    "print(W)\n",
    "print(b)\n",
    "with tf.Session() as sess:\n",
    "    result = sess.run([x,W,b,xW,xWplusb])\n",
    "    print(result[0])\n",
    "    print(result[0].shape)\n",
    "    print()\n",
    "    print(result[1])\n",
    "    print(result[1].shape)\n",
    "    print()\n",
    "    print(result[2])\n",
    "    print(result[2].shape)\n",
    "    print()\n",
    "    print(result[3])\n",
    "    print(result[3].shape)\n",
    "    print()\n",
    "    print(result[4])\n",
    "    print(result[4].shape) \n"
   ]
  },
  {
   "cell_type": "code",
   "execution_count": null,
   "metadata": {
    "collapsed": true
   },
   "outputs": [],
   "source": []
  }
 ],
 "metadata": {
  "kernelspec": {
   "display_name": "Python 3",
   "language": "python",
   "name": "python3"
  },
  "language_info": {
   "codemirror_mode": {
    "name": "ipython",
    "version": 3
   },
   "file_extension": ".py",
   "mimetype": "text/x-python",
   "name": "python",
   "nbconvert_exporter": "python",
   "pygments_lexer": "ipython3",
   "version": "3.6.4"
  }
 },
 "nbformat": 4,
 "nbformat_minor": 1
}
